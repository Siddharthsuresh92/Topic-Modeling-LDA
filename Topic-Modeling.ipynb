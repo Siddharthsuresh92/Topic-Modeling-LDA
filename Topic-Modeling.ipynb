{
 "cells": [
  {
   "cell_type": "markdown",
   "metadata": {
    "slideshow": {
     "slide_type": "slide"
    }
   },
   "source": [
    "# Topic Modeling using LDA\n",
    "\n",
    "\n",
    "### -Siddharth Suresh, MSDS' 20, UVA"
   ]
  },
  {
   "cell_type": "markdown",
   "metadata": {
    "slideshow": {
     "slide_type": "subslide"
    }
   },
   "source": [
    "Topic modeling can be described as the process of extracting abstract topics that occur in a collection of documents. It is a way to find out the latent topics based on the collection of words in the corpus.\n",
    "\n",
    "One way to model this is using Latent Dirichlet Allocation (LDA). This method follows these simple steps:\n",
    "1. Each document can be considered as a mixture of latent topics\n",
    "2. Each topic can be considered as a mixture of words\n",
    "\n",
    "Essentially, LDA helps in estimiating each of the above, i.e estimating a topic based on the words and further estimating the mixture of topics that describe a document. In order to set up the corpus for running an LDA model, there is some preprocessing required.\n",
    "\n",
    "Will see more of all this subsequently.\n",
    "\n",
    "**Index**\n",
    "\n",
    "[1. Dataset](#dataset)\n",
    "\n",
    "[2. Pre-processing](#preprocessing)\n",
    "\n",
    "* [Stemming-Lemmatization](#stem/lemma)\n",
    "\n",
    "* [Removing STOPWORDS](#stopwords)\n",
    "\n",
    "[3. LDA Model](#model)\n",
    "\n",
    "* [Bag of words](#bow)\n",
    "\n",
    "* [TF-IDF](#tfidf)\n",
    "\n",
    "[4. Topics within wine reviews](#wine)\n",
    "    \n",
    "    "
   ]
  },
  {
   "cell_type": "code",
   "execution_count": 3,
   "metadata": {
    "slideshow": {
     "slide_type": "skip"
    }
   },
   "outputs": [
    {
     "data": {
      "text/plain": [
       "{'width': 1024, 'height': 768, 'scroll': True}"
      ]
     },
     "execution_count": 3,
     "metadata": {},
     "output_type": "execute_result"
    }
   ],
   "source": [
    "from notebook.services.config import ConfigManager\n",
    "cm = ConfigManager()\n",
    "cm.update('livereveal', {\n",
    "        'width': 1024,\n",
    "        'height': 768,\n",
    "        'scroll': True,\n",
    "})"
   ]
  },
  {
   "cell_type": "markdown",
   "metadata": {
    "slideshow": {
     "slide_type": "slide"
    }
   },
   "source": [
    "## <a name=\"dataset\"></a> Loading the dataset - News Articles"
   ]
  },
  {
   "cell_type": "code",
   "execution_count": 36,
   "metadata": {
    "slideshow": {
     "slide_type": "slide"
    }
   },
   "outputs": [
    {
     "name": "stderr",
     "output_type": "stream",
     "text": [
      "[nltk_data] Downloading package wordnet to\n",
      "[nltk_data]     /Users/siddharth/nltk_data...\n",
      "[nltk_data]   Package wordnet is already up-to-date!\n"
     ]
    }
   ],
   "source": [
    "# required libraries\n",
    "\n",
    "import pandas as pd # to work with dataframes\n",
    "from wordcloud import WordCloud # to analyze frequency of different words in the corpus\n",
    "import re # for using regular expressions\n",
    "import matplotlib.pyplot as plt\n",
    "\n",
    "# used for pre-processing the text data and unsupervised topic modeling\n",
    "import gensim\n",
    "from gensim import models\n",
    "from gensim.utils import simple_preprocess\n",
    "from gensim.parsing.preprocessing import STOPWORDS\n",
    "from gensim.corpora import Dictionary\n",
    "\n",
    "# used for natural language processing {NLTK: Natural Language Tool-Kit} \n",
    "from nltk.stem import WordNetLemmatizer, SnowballStemmer, LancasterStemmer\n",
    "from nltk.stem.porter import *\n",
    "import nltk\n",
    "nltk.download('wordnet')\n",
    "\n",
    "# Set a seed to reproduce the results later. Seed used here is '2019'\n",
    "import numpy as np\n",
    "np.random.seed(2019)"
   ]
  },
  {
   "cell_type": "code",
   "execution_count": 28,
   "metadata": {
    "slideshow": {
     "slide_type": "subslide"
    }
   },
   "outputs": [
    {
     "data": {
      "text/html": [
       "<div>\n",
       "<style scoped>\n",
       "    .dataframe tbody tr th:only-of-type {\n",
       "        vertical-align: middle;\n",
       "    }\n",
       "\n",
       "    .dataframe tbody tr th {\n",
       "        vertical-align: top;\n",
       "    }\n",
       "\n",
       "    .dataframe thead th {\n",
       "        text-align: right;\n",
       "    }\n",
       "</style>\n",
       "<table border=\"1\" class=\"dataframe\">\n",
       "  <thead>\n",
       "    <tr style=\"text-align: right;\">\n",
       "      <th></th>\n",
       "      <th>publish_date</th>\n",
       "      <th>headline_text</th>\n",
       "    </tr>\n",
       "  </thead>\n",
       "  <tbody>\n",
       "    <tr>\n",
       "      <td>0</td>\n",
       "      <td>20030219</td>\n",
       "      <td>aba decides against community broadcasting licence</td>\n",
       "    </tr>\n",
       "    <tr>\n",
       "      <td>1</td>\n",
       "      <td>20030219</td>\n",
       "      <td>act fire witnesses must be aware of defamation</td>\n",
       "    </tr>\n",
       "    <tr>\n",
       "      <td>2</td>\n",
       "      <td>20030219</td>\n",
       "      <td>a g calls for infrastructure protection summit</td>\n",
       "    </tr>\n",
       "    <tr>\n",
       "      <td>3</td>\n",
       "      <td>20030219</td>\n",
       "      <td>air nz staff in aust strike for pay rise</td>\n",
       "    </tr>\n",
       "    <tr>\n",
       "      <td>4</td>\n",
       "      <td>20030219</td>\n",
       "      <td>air nz strike to affect australian travellers</td>\n",
       "    </tr>\n",
       "    <tr>\n",
       "      <td>...</td>\n",
       "      <td>...</td>\n",
       "      <td>...</td>\n",
       "    </tr>\n",
       "    <tr>\n",
       "      <td>1103658</td>\n",
       "      <td>20171231</td>\n",
       "      <td>the ashes smiths warners near miss liven up boxing day test</td>\n",
       "    </tr>\n",
       "    <tr>\n",
       "      <td>1103659</td>\n",
       "      <td>20171231</td>\n",
       "      <td>timelapse: brisbanes new year fireworks</td>\n",
       "    </tr>\n",
       "    <tr>\n",
       "      <td>1103660</td>\n",
       "      <td>20171231</td>\n",
       "      <td>what 2017 meant to the kids of australia</td>\n",
       "    </tr>\n",
       "    <tr>\n",
       "      <td>1103661</td>\n",
       "      <td>20171231</td>\n",
       "      <td>what the papodopoulos meeting may mean for ausus</td>\n",
       "    </tr>\n",
       "    <tr>\n",
       "      <td>1103662</td>\n",
       "      <td>20171231</td>\n",
       "      <td>who is george papadopoulos the former trump campaign aide</td>\n",
       "    </tr>\n",
       "  </tbody>\n",
       "</table>\n",
       "<p>1103663 rows × 2 columns</p>\n",
       "</div>"
      ],
      "text/plain": [
       "         publish_date  \\\n",
       "0        20030219       \n",
       "1        20030219       \n",
       "2        20030219       \n",
       "3        20030219       \n",
       "4        20030219       \n",
       "...           ...       \n",
       "1103658  20171231       \n",
       "1103659  20171231       \n",
       "1103660  20171231       \n",
       "1103661  20171231       \n",
       "1103662  20171231       \n",
       "\n",
       "                                                       headline_text  \n",
       "0        aba decides against community broadcasting licence           \n",
       "1        act fire witnesses must be aware of defamation               \n",
       "2        a g calls for infrastructure protection summit               \n",
       "3        air nz staff in aust strike for pay rise                     \n",
       "4        air nz strike to affect australian travellers                \n",
       "...                                                ...                \n",
       "1103658  the ashes smiths warners near miss liven up boxing day test  \n",
       "1103659  timelapse: brisbanes new year fireworks                      \n",
       "1103660  what 2017 meant to the kids of australia                     \n",
       "1103661  what the papodopoulos meeting may mean for ausus             \n",
       "1103662  who is george papadopoulos the former trump campaign aide    \n",
       "\n",
       "[1103663 rows x 2 columns]"
      ]
     },
     "execution_count": 28,
     "metadata": {},
     "output_type": "execute_result"
    }
   ],
   "source": [
    "pd.set_option('display.max_colwidth', -1)\n",
    "\n",
    "# read in the csv file containing the news articles\n",
    "news = pd.read_csv(\"abcnews-date-text.csv\")\n",
    "news"
   ]
  },
  {
   "cell_type": "markdown",
   "metadata": {
    "slideshow": {
     "slide_type": "fragment"
    }
   },
   "source": [
    "The dataset has news article headlines from Australia's ABC News (a public news service). This dataset has 1,103,663 different news headlines along with the date of publication. For the purpose of our analysis, the date of publication isn't required. All we need is the text.\n",
    "\n",
    "However, the other thing to note here is that each headline in itself isn't too long, i.e frequency of a word within a single document is going to be low. However, frequency of a word/term in the entire corpus would affect our model more than the frequency of a word/term within a document.\n",
    "\n",
    "We will see how this affects our models."
   ]
  },
  {
   "cell_type": "code",
   "execution_count": 29,
   "metadata": {
    "slideshow": {
     "slide_type": "subslide"
    }
   },
   "outputs": [
    {
     "data": {
      "text/html": [
       "<div>\n",
       "<style scoped>\n",
       "    .dataframe tbody tr th:only-of-type {\n",
       "        vertical-align: middle;\n",
       "    }\n",
       "\n",
       "    .dataframe tbody tr th {\n",
       "        vertical-align: top;\n",
       "    }\n",
       "\n",
       "    .dataframe thead th {\n",
       "        text-align: right;\n",
       "    }\n",
       "</style>\n",
       "<table border=\"1\" class=\"dataframe\">\n",
       "  <thead>\n",
       "    <tr style=\"text-align: right;\">\n",
       "      <th></th>\n",
       "      <th>headline_text</th>\n",
       "      <th>index</th>\n",
       "    </tr>\n",
       "  </thead>\n",
       "  <tbody>\n",
       "    <tr>\n",
       "      <td>500</td>\n",
       "      <td>committal continues into goulburn jail riot</td>\n",
       "      <td>500</td>\n",
       "    </tr>\n",
       "    <tr>\n",
       "      <td>501</td>\n",
       "      <td>costello unhappy he wasnt consulted by stone</td>\n",
       "      <td>501</td>\n",
       "    </tr>\n",
       "    <tr>\n",
       "      <td>502</td>\n",
       "      <td>council approves poultry farm</td>\n",
       "      <td>502</td>\n",
       "    </tr>\n",
       "    <tr>\n",
       "      <td>503</td>\n",
       "      <td>council awaits more rain</td>\n",
       "      <td>503</td>\n",
       "    </tr>\n",
       "    <tr>\n",
       "      <td>504</td>\n",
       "      <td>council considers indigenous caravan park plan</td>\n",
       "      <td>504</td>\n",
       "    </tr>\n",
       "    <tr>\n",
       "      <td>505</td>\n",
       "      <td>council elections planned for may</td>\n",
       "      <td>505</td>\n",
       "    </tr>\n",
       "    <tr>\n",
       "      <td>506</td>\n",
       "      <td>council rejects combined field days stand idea</td>\n",
       "      <td>506</td>\n",
       "    </tr>\n",
       "    <tr>\n",
       "      <td>507</td>\n",
       "      <td>council to change tree protection by law</td>\n",
       "      <td>507</td>\n",
       "    </tr>\n",
       "    <tr>\n",
       "      <td>508</td>\n",
       "      <td>council to fund groundwater study</td>\n",
       "      <td>508</td>\n",
       "    </tr>\n",
       "    <tr>\n",
       "      <td>509</td>\n",
       "      <td>counsel begin summing up at warnes doping hearing</td>\n",
       "      <td>509</td>\n",
       "    </tr>\n",
       "    <tr>\n",
       "      <td>510</td>\n",
       "      <td>criminal charges pending in south korea subway probe</td>\n",
       "      <td>510</td>\n",
       "    </tr>\n",
       "    <tr>\n",
       "      <td>511</td>\n",
       "      <td>crocs prove too good for bullets</td>\n",
       "      <td>511</td>\n",
       "    </tr>\n",
       "    <tr>\n",
       "      <td>512</td>\n",
       "      <td>date set for bushfires coronial inquiry</td>\n",
       "      <td>512</td>\n",
       "    </tr>\n",
       "    <tr>\n",
       "      <td>513</td>\n",
       "      <td>dean to receive lifetime parliamentary pension</td>\n",
       "      <td>513</td>\n",
       "    </tr>\n",
       "    <tr>\n",
       "      <td>514</td>\n",
       "      <td>death spells end to record marriage</td>\n",
       "      <td>514</td>\n",
       "    </tr>\n",
       "    <tr>\n",
       "      <td>515</td>\n",
       "      <td>demons thump tigers</td>\n",
       "      <td>515</td>\n",
       "    </tr>\n",
       "    <tr>\n",
       "      <td>516</td>\n",
       "      <td>deportivo cali outclass sulky river plate</td>\n",
       "      <td>516</td>\n",
       "    </tr>\n",
       "    <tr>\n",
       "      <td>517</td>\n",
       "      <td>deschamps chases old flame marseille</td>\n",
       "      <td>517</td>\n",
       "    </tr>\n",
       "    <tr>\n",
       "      <td>518</td>\n",
       "      <td>disaster funds to allow shire to complete other</td>\n",
       "      <td>518</td>\n",
       "    </tr>\n",
       "    <tr>\n",
       "      <td>519</td>\n",
       "      <td>dortmund ready to hound bayern</td>\n",
       "      <td>519</td>\n",
       "    </tr>\n",
       "  </tbody>\n",
       "</table>\n",
       "</div>"
      ],
      "text/plain": [
       "                                            headline_text  index\n",
       "500  committal continues into goulburn jail riot           500  \n",
       "501  costello unhappy he wasnt consulted by stone          501  \n",
       "502  council approves poultry farm                         502  \n",
       "503  council awaits more rain                              503  \n",
       "504  council considers indigenous caravan park plan        504  \n",
       "505  council elections planned for may                     505  \n",
       "506  council rejects combined field days stand idea        506  \n",
       "507  council to change tree protection by law              507  \n",
       "508  council to fund groundwater study                     508  \n",
       "509  counsel begin summing up at warnes doping hearing     509  \n",
       "510  criminal charges pending in south korea subway probe  510  \n",
       "511  crocs prove too good for bullets                      511  \n",
       "512  date set for bushfires coronial inquiry               512  \n",
       "513  dean to receive lifetime parliamentary pension        513  \n",
       "514  death spells end to record marriage                   514  \n",
       "515  demons thump tigers                                   515  \n",
       "516  deportivo cali outclass sulky river plate             516  \n",
       "517  deschamps chases old flame marseille                  517  \n",
       "518  disaster funds to allow shire to complete other       518  \n",
       "519  dortmund ready to hound bayern                        519  "
      ]
     },
     "execution_count": 29,
     "metadata": {},
     "output_type": "execute_result"
    }
   ],
   "source": [
    "news = news.drop(columns = \"publish_date\") # since this data isn't really required for the topic modeling\n",
    "news['index'] = news.index # we would want to give each article an index to reference back to it later\n",
    "\n",
    "news[500:520]"
   ]
  },
  {
   "cell_type": "markdown",
   "metadata": {
    "slideshow": {
     "slide_type": "fragment"
    }
   },
   "source": [
    "Just from eyeballing this section of the data (rows 500 to 519), it can be observed that there are articles from politics, law, sports just to name a few. Let's see what we get from visualizing the words in these articles."
   ]
  },
  {
   "cell_type": "code",
   "execution_count": 156,
   "metadata": {
    "slideshow": {
     "slide_type": "subslide"
    }
   },
   "outputs": [
    {
     "data": {
      "image/png": "[encoded data removed]",
      "text/plain": [
       "<Figure size 864x864 with 1 Axes>"
      ]
     },
     "metadata": {
      "needs_background": "light"
     },
     "output_type": "display_data"
    }
   ],
   "source": [
    "text = \" \".join(headline for headline in news[\"headline_text\"])\n",
    "\n",
    "wordcloud = WordCloud(background_color=\"white\").generate(text)\n",
    "plt.figure(figsize = (12,12))\n",
    "plt.imshow(wordcloud, interpolation='bilinear')\n",
    "plt.axis(\"off\")\n",
    "plt.show()"
   ]
  },
  {
   "cell_type": "markdown",
   "metadata": {
    "slideshow": {
     "slide_type": "fragment"
    }
   },
   "source": [
    "We see that the most important words turn out to be \"say\", \"win\", \"new\", \"us\" etc. which are all forms of stopwords. This shows us why it is important to filter these out before running our model.\n",
    "\n",
    "We do not wish to train our topic model based on words that do not give us any idea of the latent topics."
   ]
  },
  {
   "cell_type": "markdown",
   "metadata": {
    "slideshow": {
     "slide_type": "slide"
    }
   },
   "source": [
    "## <a name=\"preprocessing\"></a> Data pre-processing"
   ]
  },
  {
   "cell_type": "markdown",
   "metadata": {
    "slideshow": {
     "slide_type": "subslide"
    }
   },
   "source": [
    "##### Pre-processing includes the following steps:\n",
    "\n",
    "1. <font color=\"blue\"> Stemming-lemmatization </font>: This step is required to extract the rootwords from a document. For instance, the root word for happiness is \"happy\"\n",
    "2. <font color=\"blue\"> Removing stopwords </font>: Stopwords are the most commonly used words in natural language. Examples: \"The\", \"a\", \"is\", \"at\", \"which\" etc."
   ]
  },
  {
   "cell_type": "markdown",
   "metadata": {
    "slideshow": {
     "slide_type": "subslide"
    }
   },
   "source": [
    "#### <a name = \"stem/lemma\"></a> 1. Stemming-Lemmatization"
   ]
  },
  {
   "cell_type": "markdown",
   "metadata": {
    "slideshow": {
     "slide_type": "fragment"
    }
   },
   "source": [
    "There are many stemmers in the NLTK library.\n",
    "\n",
    "Some of the frequently used stemmers are:\n",
    "1. SnowballStemmer\n",
    "2. LancasterStemmer\n",
    "3. PorterStemmer\n",
    "\n",
    "The lemmatizer in the NLTK library is: WordNetLemmatizer\n",
    "\n",
    "Let's look at how these would work on different words."
   ]
  },
  {
   "cell_type": "code",
   "execution_count": 6,
   "metadata": {
    "slideshow": {
     "slide_type": "subslide"
    }
   },
   "outputs": [],
   "source": [
    "# initializing the stemmer and lemmatizer\n",
    "stemmer = LancasterStemmer() # using the LancasterStemmer\n",
    "lemmatizer = WordNetLemmatizer()"
   ]
  },
  {
   "cell_type": "code",
   "execution_count": 7,
   "metadata": {
    "slideshow": {
     "slide_type": "subslide"
    }
   },
   "outputs": [
    {
     "data": {
      "text/html": [
       "<div>\n",
       "<style scoped>\n",
       "    .dataframe tbody tr th:only-of-type {\n",
       "        vertical-align: middle;\n",
       "    }\n",
       "\n",
       "    .dataframe tbody tr th {\n",
       "        vertical-align: top;\n",
       "    }\n",
       "\n",
       "    .dataframe thead th {\n",
       "        text-align: right;\n",
       "    }\n",
       "</style>\n",
       "<table border=\"1\" class=\"dataframe\">\n",
       "  <thead>\n",
       "    <tr style=\"text-align: right;\">\n",
       "      <th></th>\n",
       "      <th>original word</th>\n",
       "      <th>stemmed</th>\n",
       "      <th>lemma</th>\n",
       "    </tr>\n",
       "  </thead>\n",
       "  <tbody>\n",
       "    <tr>\n",
       "      <td>0</td>\n",
       "      <td>happiness</td>\n",
       "      <td>happy</td>\n",
       "      <td>happiness</td>\n",
       "    </tr>\n",
       "    <tr>\n",
       "      <td>1</td>\n",
       "      <td>flies</td>\n",
       "      <td>fli</td>\n",
       "      <td>fly</td>\n",
       "    </tr>\n",
       "    <tr>\n",
       "      <td>2</td>\n",
       "      <td>workers</td>\n",
       "      <td>work</td>\n",
       "      <td>worker</td>\n",
       "    </tr>\n",
       "    <tr>\n",
       "      <td>3</td>\n",
       "      <td>dogs</td>\n",
       "      <td>dog</td>\n",
       "      <td>dog</td>\n",
       "    </tr>\n",
       "    <tr>\n",
       "      <td>4</td>\n",
       "      <td>agreed</td>\n",
       "      <td>agree</td>\n",
       "      <td>agreed</td>\n",
       "    </tr>\n",
       "    <tr>\n",
       "      <td>5</td>\n",
       "      <td>owned</td>\n",
       "      <td>own</td>\n",
       "      <td>owned</td>\n",
       "    </tr>\n",
       "    <tr>\n",
       "      <td>6</td>\n",
       "      <td>humbled</td>\n",
       "      <td>humbl</td>\n",
       "      <td>humbled</td>\n",
       "    </tr>\n",
       "    <tr>\n",
       "      <td>7</td>\n",
       "      <td>meeting</td>\n",
       "      <td>meet</td>\n",
       "      <td>meeting</td>\n",
       "    </tr>\n",
       "    <tr>\n",
       "      <td>8</td>\n",
       "      <td>helper</td>\n",
       "      <td>help</td>\n",
       "      <td>helper</td>\n",
       "    </tr>\n",
       "    <tr>\n",
       "      <td>9</td>\n",
       "      <td>drinks</td>\n",
       "      <td>drink</td>\n",
       "      <td>drink</td>\n",
       "    </tr>\n",
       "    <tr>\n",
       "      <td>10</td>\n",
       "      <td>watching</td>\n",
       "      <td>watch</td>\n",
       "      <td>watching</td>\n",
       "    </tr>\n",
       "    <tr>\n",
       "      <td>11</td>\n",
       "      <td>traditional</td>\n",
       "      <td>tradit</td>\n",
       "      <td>traditional</td>\n",
       "    </tr>\n",
       "    <tr>\n",
       "      <td>12</td>\n",
       "      <td>politics</td>\n",
       "      <td>polit</td>\n",
       "      <td>politics</td>\n",
       "    </tr>\n",
       "    <tr>\n",
       "      <td>13</td>\n",
       "      <td>player</td>\n",
       "      <td>play</td>\n",
       "      <td>player</td>\n",
       "    </tr>\n",
       "    <tr>\n",
       "      <td>14</td>\n",
       "      <td>curator</td>\n",
       "      <td>cur</td>\n",
       "      <td>curator</td>\n",
       "    </tr>\n",
       "    <tr>\n",
       "      <td>15</td>\n",
       "      <td>better</td>\n",
       "      <td>bet</td>\n",
       "      <td>better</td>\n",
       "    </tr>\n",
       "    <tr>\n",
       "      <td>16</td>\n",
       "      <td>best</td>\n",
       "      <td>best</td>\n",
       "      <td>best</td>\n",
       "    </tr>\n",
       "    <tr>\n",
       "      <td>17</td>\n",
       "      <td>cooker</td>\n",
       "      <td>cook</td>\n",
       "      <td>cooker</td>\n",
       "    </tr>\n",
       "    <tr>\n",
       "      <td>18</td>\n",
       "      <td>cooking</td>\n",
       "      <td>cook</td>\n",
       "      <td>cooking</td>\n",
       "    </tr>\n",
       "  </tbody>\n",
       "</table>\n",
       "</div>"
      ],
      "text/plain": [
       "   original word stemmed        lemma\n",
       "0   happiness     happy   happiness  \n",
       "1   flies         fli     fly        \n",
       "2   workers       work    worker     \n",
       "3   dogs          dog     dog        \n",
       "4   agreed        agree   agreed     \n",
       "5   owned         own     owned      \n",
       "6   humbled       humbl   humbled    \n",
       "7   meeting       meet    meeting    \n",
       "8   helper        help    helper     \n",
       "9   drinks        drink   drink      \n",
       "10  watching      watch   watching   \n",
       "11  traditional   tradit  traditional\n",
       "12  politics      polit   politics   \n",
       "13  player        play    player     \n",
       "14  curator       cur     curator    \n",
       "15  better        bet     better     \n",
       "16  best          best    best       \n",
       "17  cooker        cook    cooker     \n",
       "18  cooking       cook    cooking    "
      ]
     },
     "execution_count": 7,
     "metadata": {},
     "output_type": "execute_result"
    }
   ],
   "source": [
    "# sample words to stem/lemmatize\n",
    "sample_words = ['happiness', 'flies', 'workers', 'dogs', 'agreed', 'owned', 'humbled', 'meeting', 'helper', \n",
    "                'drinks', 'watching', 'traditional', 'politics', 'player', 'curator', 'better', 'best', \n",
    "                'cooker', 'cooking']\n",
    "\n",
    "stems = [stemmer.stem(plural) for plural in sample_words] # stemming process\n",
    "lemmas = [lemmatizer.lemmatize(plural) for plural in sample_words] # lemmatization process\n",
    "\n",
    "pd.DataFrame(data = {'original word': sample_words, 'stemmed': stems, 'lemma': lemmas})"
   ]
  },
  {
   "cell_type": "markdown",
   "metadata": {
    "slideshow": {
     "slide_type": "subslide"
    }
   },
   "source": [
    "From the dataframe above the following observations were made:\n",
    "1. For some words, the lemmatization and stemming provide the exact same result (eg: \"dogs\", \"drinks\")\n",
    "2. Lemmatization does not change certain words (eg: \"agreed\", \"player\", \"watcher\")\n",
    "3. Stemming converts certain words to something that does not seem to be a word anymore (eg: \"better\", \"curator\", \"politics\", \"traditional\")"
   ]
  },
  {
   "cell_type": "markdown",
   "metadata": {
    "slideshow": {
     "slide_type": "subslide"
    }
   },
   "source": [
    "##### <font color = \"black\"> Q. There is an argument in the WordNetLemmatizer.lemmatize() called \"pos\" which stands for Part-of-speech. Do you think that could make a difference for the lemmatization process for the words given above? </font>"
   ]
  },
  {
   "cell_type": "markdown",
   "metadata": {
    "slideshow": {
     "slide_type": "fragment"
    }
   },
   "source": [
    "Note: by default, the \"pos\" argument is equal to \"n\"\n",
    "\n",
    "where, n stands for NOUN"
   ]
  },
  {
   "cell_type": "code",
   "execution_count": 9,
   "metadata": {
    "slideshow": {
     "slide_type": "subslide"
    }
   },
   "outputs": [
    {
     "data": {
      "text/html": [
       "<div>\n",
       "<style scoped>\n",
       "    .dataframe tbody tr th:only-of-type {\n",
       "        vertical-align: middle;\n",
       "    }\n",
       "\n",
       "    .dataframe tbody tr th {\n",
       "        vertical-align: top;\n",
       "    }\n",
       "\n",
       "    .dataframe thead th {\n",
       "        text-align: right;\n",
       "    }\n",
       "</style>\n",
       "<table border=\"1\" class=\"dataframe\">\n",
       "  <thead>\n",
       "    <tr style=\"text-align: right;\">\n",
       "      <th></th>\n",
       "      <th>original word</th>\n",
       "      <th>stemmed</th>\n",
       "      <th>lemma-noun</th>\n",
       "      <th>lemma-verb</th>\n",
       "      <th>lemma-adjective</th>\n",
       "    </tr>\n",
       "  </thead>\n",
       "  <tbody>\n",
       "    <tr>\n",
       "      <td>0</td>\n",
       "      <td>happiness</td>\n",
       "      <td>happy</td>\n",
       "      <td>happiness</td>\n",
       "      <td>happiness</td>\n",
       "      <td>happiness</td>\n",
       "    </tr>\n",
       "    <tr>\n",
       "      <td>1</td>\n",
       "      <td>flies</td>\n",
       "      <td>fli</td>\n",
       "      <td>fly</td>\n",
       "      <td>fly</td>\n",
       "      <td>flies</td>\n",
       "    </tr>\n",
       "    <tr>\n",
       "      <td>2</td>\n",
       "      <td>workers</td>\n",
       "      <td>work</td>\n",
       "      <td>worker</td>\n",
       "      <td>workers</td>\n",
       "      <td>workers</td>\n",
       "    </tr>\n",
       "    <tr>\n",
       "      <td>3</td>\n",
       "      <td>dogs</td>\n",
       "      <td>dog</td>\n",
       "      <td>dog</td>\n",
       "      <td>dog</td>\n",
       "      <td>dogs</td>\n",
       "    </tr>\n",
       "    <tr>\n",
       "      <td>4</td>\n",
       "      <td>agreed</td>\n",
       "      <td>agree</td>\n",
       "      <td>agreed</td>\n",
       "      <td>agree</td>\n",
       "      <td>agreed</td>\n",
       "    </tr>\n",
       "    <tr>\n",
       "      <td>5</td>\n",
       "      <td>owned</td>\n",
       "      <td>own</td>\n",
       "      <td>owned</td>\n",
       "      <td>own</td>\n",
       "      <td>owned</td>\n",
       "    </tr>\n",
       "    <tr>\n",
       "      <td>6</td>\n",
       "      <td>humbled</td>\n",
       "      <td>humbl</td>\n",
       "      <td>humbled</td>\n",
       "      <td>humble</td>\n",
       "      <td>humbled</td>\n",
       "    </tr>\n",
       "    <tr>\n",
       "      <td>7</td>\n",
       "      <td>meeting</td>\n",
       "      <td>meet</td>\n",
       "      <td>meeting</td>\n",
       "      <td>meet</td>\n",
       "      <td>meeting</td>\n",
       "    </tr>\n",
       "    <tr>\n",
       "      <td>8</td>\n",
       "      <td>helper</td>\n",
       "      <td>help</td>\n",
       "      <td>helper</td>\n",
       "      <td>helper</td>\n",
       "      <td>helper</td>\n",
       "    </tr>\n",
       "    <tr>\n",
       "      <td>9</td>\n",
       "      <td>drinks</td>\n",
       "      <td>drink</td>\n",
       "      <td>drink</td>\n",
       "      <td>drink</td>\n",
       "      <td>drinks</td>\n",
       "    </tr>\n",
       "    <tr>\n",
       "      <td>10</td>\n",
       "      <td>watching</td>\n",
       "      <td>watch</td>\n",
       "      <td>watching</td>\n",
       "      <td>watch</td>\n",
       "      <td>watching</td>\n",
       "    </tr>\n",
       "    <tr>\n",
       "      <td>11</td>\n",
       "      <td>traditional</td>\n",
       "      <td>tradit</td>\n",
       "      <td>traditional</td>\n",
       "      <td>traditional</td>\n",
       "      <td>traditional</td>\n",
       "    </tr>\n",
       "    <tr>\n",
       "      <td>12</td>\n",
       "      <td>politics</td>\n",
       "      <td>polit</td>\n",
       "      <td>politics</td>\n",
       "      <td>politics</td>\n",
       "      <td>politics</td>\n",
       "    </tr>\n",
       "    <tr>\n",
       "      <td>13</td>\n",
       "      <td>player</td>\n",
       "      <td>play</td>\n",
       "      <td>player</td>\n",
       "      <td>player</td>\n",
       "      <td>player</td>\n",
       "    </tr>\n",
       "    <tr>\n",
       "      <td>14</td>\n",
       "      <td>curator</td>\n",
       "      <td>cur</td>\n",
       "      <td>curator</td>\n",
       "      <td>curator</td>\n",
       "      <td>curator</td>\n",
       "    </tr>\n",
       "    <tr>\n",
       "      <td>15</td>\n",
       "      <td>better</td>\n",
       "      <td>bet</td>\n",
       "      <td>better</td>\n",
       "      <td>better</td>\n",
       "      <td>good</td>\n",
       "    </tr>\n",
       "    <tr>\n",
       "      <td>16</td>\n",
       "      <td>best</td>\n",
       "      <td>best</td>\n",
       "      <td>best</td>\n",
       "      <td>best</td>\n",
       "      <td>best</td>\n",
       "    </tr>\n",
       "    <tr>\n",
       "      <td>17</td>\n",
       "      <td>cooker</td>\n",
       "      <td>cook</td>\n",
       "      <td>cooker</td>\n",
       "      <td>cooker</td>\n",
       "      <td>cooker</td>\n",
       "    </tr>\n",
       "    <tr>\n",
       "      <td>18</td>\n",
       "      <td>cooking</td>\n",
       "      <td>cook</td>\n",
       "      <td>cooking</td>\n",
       "      <td>cook</td>\n",
       "      <td>cooking</td>\n",
       "    </tr>\n",
       "  </tbody>\n",
       "</table>\n",
       "</div>"
      ],
      "text/plain": [
       "   original word stemmed   lemma-noun   lemma-verb lemma-adjective\n",
       "0   happiness     happy   happiness    happiness    happiness     \n",
       "1   flies         fli     fly          fly          flies         \n",
       "2   workers       work    worker       workers      workers       \n",
       "3   dogs          dog     dog          dog          dogs          \n",
       "4   agreed        agree   agreed       agree        agreed        \n",
       "5   owned         own     owned        own          owned         \n",
       "6   humbled       humbl   humbled      humble       humbled       \n",
       "7   meeting       meet    meeting      meet         meeting       \n",
       "8   helper        help    helper       helper       helper        \n",
       "9   drinks        drink   drink        drink        drinks        \n",
       "10  watching      watch   watching     watch        watching      \n",
       "11  traditional   tradit  traditional  traditional  traditional   \n",
       "12  politics      polit   politics     politics     politics      \n",
       "13  player        play    player       player       player        \n",
       "14  curator       cur     curator      curator      curator       \n",
       "15  better        bet     better       better       good          \n",
       "16  best          best    best         best         best          \n",
       "17  cooker        cook    cooker       cooker       cooker        \n",
       "18  cooking       cook    cooking      cook         cooking       "
      ]
     },
     "execution_count": 9,
     "metadata": {},
     "output_type": "execute_result"
    }
   ],
   "source": [
    "# lemmatization process (pos = \"verb\")\n",
    "lemma_v = [lemmatizer.lemmatize(plural, pos = \"v\") for plural in sample_words]\n",
    "\n",
    "# lemmatization process (pos = \"verb\")\n",
    "lemma_a = [lemmatizer.lemmatize(plural, pos = \"a\") for plural in sample_words]\n",
    "\n",
    "# saves the results in a dictionary and creates a dataframe from it\n",
    "pd.DataFrame(data = {'original word': sample_words, 'stemmed': stems, 'lemma-noun': lemmas, 'lemma-verb': lemma_v,\n",
    "                    'lemma-adjective': lemma_a})"
   ]
  },
  {
   "cell_type": "markdown",
   "metadata": {
    "slideshow": {
     "slide_type": "subslide"
    }
   },
   "source": [
    "So, which part-of-speech argument should be used for this problem?\n",
    "\n",
    "For this case, since we are modeling topics for a corpus of news articles, using verbs for the part-of-speech argument does seem to be intuitive. This is because we want to associate the articles to different topics based on the words we observe in a cluster of documents.\n",
    "\n",
    "For instance, if we observe the words \"cook\", \"chef\", \"vegetables\", \"restaurant\", \"soup\", \"wine\" as the most commonly occuring words, we would want to choose a topic such as say \"CULINARY NEWS\" in the context of news articles.\n",
    "\n",
    "So, in order to get the right root, we might want to extract the root based on the part of speech being set to \"verb\"."
   ]
  },
  {
   "cell_type": "markdown",
   "metadata": {
    "slideshow": {
     "slide_type": "subslide"
    }
   },
   "source": [
    "Another way could be to stem the resultant lemmatized word. You will see a lot of people use a combination of these methods to extract the roots, but for this analysis, I shall be using the lemmas only. You can see the result below when lemmatization was used with pos = \"v\""
   ]
  },
  {
   "cell_type": "code",
   "execution_count": 10,
   "metadata": {
    "slideshow": {
     "slide_type": "fragment"
    }
   },
   "outputs": [
    {
     "data": {
      "text/html": [
       "<div>\n",
       "<style scoped>\n",
       "    .dataframe tbody tr th:only-of-type {\n",
       "        vertical-align: middle;\n",
       "    }\n",
       "\n",
       "    .dataframe tbody tr th {\n",
       "        vertical-align: top;\n",
       "    }\n",
       "\n",
       "    .dataframe thead th {\n",
       "        text-align: right;\n",
       "    }\n",
       "</style>\n",
       "<table border=\"1\" class=\"dataframe\">\n",
       "  <thead>\n",
       "    <tr style=\"text-align: right;\">\n",
       "      <th></th>\n",
       "      <th>original word</th>\n",
       "      <th>stemmed</th>\n",
       "      <th>lemma-verb</th>\n",
       "      <th>stem-lemma</th>\n",
       "    </tr>\n",
       "  </thead>\n",
       "  <tbody>\n",
       "    <tr>\n",
       "      <td>0</td>\n",
       "      <td>happiness</td>\n",
       "      <td>happy</td>\n",
       "      <td>happiness</td>\n",
       "      <td>happy</td>\n",
       "    </tr>\n",
       "    <tr>\n",
       "      <td>1</td>\n",
       "      <td>flies</td>\n",
       "      <td>fli</td>\n",
       "      <td>fly</td>\n",
       "      <td>fly</td>\n",
       "    </tr>\n",
       "    <tr>\n",
       "      <td>2</td>\n",
       "      <td>workers</td>\n",
       "      <td>work</td>\n",
       "      <td>workers</td>\n",
       "      <td>work</td>\n",
       "    </tr>\n",
       "    <tr>\n",
       "      <td>3</td>\n",
       "      <td>dogs</td>\n",
       "      <td>dog</td>\n",
       "      <td>dog</td>\n",
       "      <td>dog</td>\n",
       "    </tr>\n",
       "    <tr>\n",
       "      <td>4</td>\n",
       "      <td>agreed</td>\n",
       "      <td>agree</td>\n",
       "      <td>agree</td>\n",
       "      <td>agr</td>\n",
       "    </tr>\n",
       "    <tr>\n",
       "      <td>5</td>\n",
       "      <td>owned</td>\n",
       "      <td>own</td>\n",
       "      <td>own</td>\n",
       "      <td>own</td>\n",
       "    </tr>\n",
       "    <tr>\n",
       "      <td>6</td>\n",
       "      <td>humbled</td>\n",
       "      <td>humbl</td>\n",
       "      <td>humble</td>\n",
       "      <td>humbl</td>\n",
       "    </tr>\n",
       "    <tr>\n",
       "      <td>7</td>\n",
       "      <td>meeting</td>\n",
       "      <td>meet</td>\n",
       "      <td>meet</td>\n",
       "      <td>meet</td>\n",
       "    </tr>\n",
       "    <tr>\n",
       "      <td>8</td>\n",
       "      <td>helper</td>\n",
       "      <td>help</td>\n",
       "      <td>helper</td>\n",
       "      <td>help</td>\n",
       "    </tr>\n",
       "    <tr>\n",
       "      <td>9</td>\n",
       "      <td>drinks</td>\n",
       "      <td>drink</td>\n",
       "      <td>drink</td>\n",
       "      <td>drink</td>\n",
       "    </tr>\n",
       "    <tr>\n",
       "      <td>10</td>\n",
       "      <td>watching</td>\n",
       "      <td>watch</td>\n",
       "      <td>watch</td>\n",
       "      <td>watch</td>\n",
       "    </tr>\n",
       "    <tr>\n",
       "      <td>11</td>\n",
       "      <td>traditional</td>\n",
       "      <td>tradit</td>\n",
       "      <td>traditional</td>\n",
       "      <td>tradit</td>\n",
       "    </tr>\n",
       "    <tr>\n",
       "      <td>12</td>\n",
       "      <td>politics</td>\n",
       "      <td>polit</td>\n",
       "      <td>politics</td>\n",
       "      <td>polit</td>\n",
       "    </tr>\n",
       "    <tr>\n",
       "      <td>13</td>\n",
       "      <td>player</td>\n",
       "      <td>play</td>\n",
       "      <td>player</td>\n",
       "      <td>play</td>\n",
       "    </tr>\n",
       "    <tr>\n",
       "      <td>14</td>\n",
       "      <td>curator</td>\n",
       "      <td>cur</td>\n",
       "      <td>curator</td>\n",
       "      <td>cur</td>\n",
       "    </tr>\n",
       "    <tr>\n",
       "      <td>15</td>\n",
       "      <td>better</td>\n",
       "      <td>bet</td>\n",
       "      <td>better</td>\n",
       "      <td>bet</td>\n",
       "    </tr>\n",
       "    <tr>\n",
       "      <td>16</td>\n",
       "      <td>best</td>\n",
       "      <td>best</td>\n",
       "      <td>best</td>\n",
       "      <td>best</td>\n",
       "    </tr>\n",
       "    <tr>\n",
       "      <td>17</td>\n",
       "      <td>cooker</td>\n",
       "      <td>cook</td>\n",
       "      <td>cooker</td>\n",
       "      <td>cook</td>\n",
       "    </tr>\n",
       "    <tr>\n",
       "      <td>18</td>\n",
       "      <td>cooking</td>\n",
       "      <td>cook</td>\n",
       "      <td>cook</td>\n",
       "      <td>cook</td>\n",
       "    </tr>\n",
       "  </tbody>\n",
       "</table>\n",
       "</div>"
      ],
      "text/plain": [
       "   original word stemmed   lemma-verb stem-lemma\n",
       "0   happiness     happy   happiness    happy    \n",
       "1   flies         fli     fly          fly      \n",
       "2   workers       work    workers      work     \n",
       "3   dogs          dog     dog          dog      \n",
       "4   agreed        agree   agree        agr      \n",
       "5   owned         own     own          own      \n",
       "6   humbled       humbl   humble       humbl    \n",
       "7   meeting       meet    meet         meet     \n",
       "8   helper        help    helper       help     \n",
       "9   drinks        drink   drink        drink    \n",
       "10  watching      watch   watch        watch    \n",
       "11  traditional   tradit  traditional  tradit   \n",
       "12  politics      polit   politics     polit    \n",
       "13  player        play    player       play     \n",
       "14  curator       cur     curator      cur      \n",
       "15  better        bet     better       bet      \n",
       "16  best          best    best         best     \n",
       "17  cooker        cook    cooker       cook     \n",
       "18  cooking       cook    cook         cook     "
      ]
     },
     "execution_count": 10,
     "metadata": {},
     "output_type": "execute_result"
    }
   ],
   "source": [
    "# combined lemmatization and stemming process (in that order)\n",
    "stem_lemma = [stemmer.stem(WordNetLemmatizer().lemmatize(plural, pos = \"v\")) for plural in sample_words]\n",
    "\n",
    "pd.DataFrame(data = {'original word': sample_words, 'stemmed': stems, 'lemma-verb': lemma_v,\n",
    "                    'stem-lemma': stem_lemma})"
   ]
  },
  {
   "cell_type": "markdown",
   "metadata": {
    "slideshow": {
     "slide_type": "subslide"
    }
   },
   "source": [
    "Based on the dataframe above, I would prefer the lemma-verb column more than the others."
   ]
  },
  {
   "cell_type": "markdown",
   "metadata": {
    "slideshow": {
     "slide_type": "subslide"
    }
   },
   "source": [
    "Let's now define a function that lemmatizes given word:"
   ]
  },
  {
   "cell_type": "code",
   "execution_count": 11,
   "metadata": {
    "slideshow": {
     "slide_type": "fragment"
    }
   },
   "outputs": [],
   "source": [
    "# function to lemmatize a given word\n",
    "\n",
    "def lemmatize(text):\n",
    "    return lemmatizer.lemmatize(text, pos = \"v\")"
   ]
  },
  {
   "cell_type": "markdown",
   "metadata": {
    "slideshow": {
     "slide_type": "subslide"
    }
   },
   "source": [
    "#### <a name = \"stopwords\"></a> 2. Removing stopwords"
   ]
  },
  {
   "cell_type": "markdown",
   "metadata": {
    "slideshow": {
     "slide_type": "fragment"
    }
   },
   "source": [
    "Stopwords can be removed from text by comparing individual words in a sentence with a defined list of STOPWORDS. The STOPWORDS from gensim.parsing.preprocessing library has a list of such stopwords in the english language."
   ]
  },
  {
   "cell_type": "code",
   "execution_count": 12,
   "metadata": {
    "slideshow": {
     "slide_type": "subslide"
    }
   },
   "outputs": [
    {
     "data": {
      "text/plain": [
       "frozenset({'a',\n",
       "           'about',\n",
       "           'above',\n",
       "           'across',\n",
       "           'after',\n",
       "           'afterwards',\n",
       "           'again',\n",
       "           'against',\n",
       "           'all',\n",
       "           'almost',\n",
       "           'alone',\n",
       "           'along',\n",
       "           'already',\n",
       "           'also',\n",
       "           'although',\n",
       "           'always',\n",
       "           'am',\n",
       "           'among',\n",
       "           'amongst',\n",
       "           'amoungst',\n",
       "           'amount',\n",
       "           'an',\n",
       "           'and',\n",
       "           'another',\n",
       "           'any',\n",
       "           'anyhow',\n",
       "           'anyone',\n",
       "           'anything',\n",
       "           'anyway',\n",
       "           'anywhere',\n",
       "           'are',\n",
       "           'around',\n",
       "           'as',\n",
       "           'at',\n",
       "           'back',\n",
       "           'be',\n",
       "           'became',\n",
       "           'because',\n",
       "           'become',\n",
       "           'becomes',\n",
       "           'becoming',\n",
       "           'been',\n",
       "           'before',\n",
       "           'beforehand',\n",
       "           'behind',\n",
       "           'being',\n",
       "           'below',\n",
       "           'beside',\n",
       "           'besides',\n",
       "           'between',\n",
       "           'beyond',\n",
       "           'bill',\n",
       "           'both',\n",
       "           'bottom',\n",
       "           'but',\n",
       "           'by',\n",
       "           'call',\n",
       "           'can',\n",
       "           'cannot',\n",
       "           'cant',\n",
       "           'co',\n",
       "           'computer',\n",
       "           'con',\n",
       "           'could',\n",
       "           'couldnt',\n",
       "           'cry',\n",
       "           'de',\n",
       "           'describe',\n",
       "           'detail',\n",
       "           'did',\n",
       "           'didn',\n",
       "           'do',\n",
       "           'does',\n",
       "           'doesn',\n",
       "           'doing',\n",
       "           'don',\n",
       "           'done',\n",
       "           'down',\n",
       "           'due',\n",
       "           'during',\n",
       "           'each',\n",
       "           'eg',\n",
       "           'eight',\n",
       "           'either',\n",
       "           'eleven',\n",
       "           'else',\n",
       "           'elsewhere',\n",
       "           'empty',\n",
       "           'enough',\n",
       "           'etc',\n",
       "           'even',\n",
       "           'ever',\n",
       "           'every',\n",
       "           'everyone',\n",
       "           'everything',\n",
       "           'everywhere',\n",
       "           'except',\n",
       "           'few',\n",
       "           'fifteen',\n",
       "           'fifty',\n",
       "           'fill',\n",
       "           'find',\n",
       "           'fire',\n",
       "           'first',\n",
       "           'five',\n",
       "           'for',\n",
       "           'former',\n",
       "           'formerly',\n",
       "           'forty',\n",
       "           'found',\n",
       "           'four',\n",
       "           'from',\n",
       "           'front',\n",
       "           'full',\n",
       "           'further',\n",
       "           'get',\n",
       "           'give',\n",
       "           'go',\n",
       "           'had',\n",
       "           'has',\n",
       "           'hasnt',\n",
       "           'have',\n",
       "           'he',\n",
       "           'hence',\n",
       "           'her',\n",
       "           'here',\n",
       "           'hereafter',\n",
       "           'hereby',\n",
       "           'herein',\n",
       "           'hereupon',\n",
       "           'hers',\n",
       "           'herself',\n",
       "           'him',\n",
       "           'himself',\n",
       "           'his',\n",
       "           'how',\n",
       "           'however',\n",
       "           'hundred',\n",
       "           'i',\n",
       "           'ie',\n",
       "           'if',\n",
       "           'in',\n",
       "           'inc',\n",
       "           'indeed',\n",
       "           'interest',\n",
       "           'into',\n",
       "           'is',\n",
       "           'it',\n",
       "           'its',\n",
       "           'itself',\n",
       "           'just',\n",
       "           'keep',\n",
       "           'kg',\n",
       "           'km',\n",
       "           'last',\n",
       "           'latter',\n",
       "           'latterly',\n",
       "           'least',\n",
       "           'less',\n",
       "           'ltd',\n",
       "           'made',\n",
       "           'make',\n",
       "           'many',\n",
       "           'may',\n",
       "           'me',\n",
       "           'meanwhile',\n",
       "           'might',\n",
       "           'mill',\n",
       "           'mine',\n",
       "           'more',\n",
       "           'moreover',\n",
       "           'most',\n",
       "           'mostly',\n",
       "           'move',\n",
       "           'much',\n",
       "           'must',\n",
       "           'my',\n",
       "           'myself',\n",
       "           'name',\n",
       "           'namely',\n",
       "           'neither',\n",
       "           'never',\n",
       "           'nevertheless',\n",
       "           'next',\n",
       "           'nine',\n",
       "           'no',\n",
       "           'nobody',\n",
       "           'none',\n",
       "           'noone',\n",
       "           'nor',\n",
       "           'not',\n",
       "           'nothing',\n",
       "           'now',\n",
       "           'nowhere',\n",
       "           'of',\n",
       "           'off',\n",
       "           'often',\n",
       "           'on',\n",
       "           'once',\n",
       "           'one',\n",
       "           'only',\n",
       "           'onto',\n",
       "           'or',\n",
       "           'other',\n",
       "           'others',\n",
       "           'otherwise',\n",
       "           'our',\n",
       "           'ours',\n",
       "           'ourselves',\n",
       "           'out',\n",
       "           'over',\n",
       "           'own',\n",
       "           'part',\n",
       "           'per',\n",
       "           'perhaps',\n",
       "           'please',\n",
       "           'put',\n",
       "           'quite',\n",
       "           'rather',\n",
       "           're',\n",
       "           'really',\n",
       "           'regarding',\n",
       "           'same',\n",
       "           'say',\n",
       "           'see',\n",
       "           'seem',\n",
       "           'seemed',\n",
       "           'seeming',\n",
       "           'seems',\n",
       "           'serious',\n",
       "           'several',\n",
       "           'she',\n",
       "           'should',\n",
       "           'show',\n",
       "           'side',\n",
       "           'since',\n",
       "           'sincere',\n",
       "           'six',\n",
       "           'sixty',\n",
       "           'so',\n",
       "           'some',\n",
       "           'somehow',\n",
       "           'someone',\n",
       "           'something',\n",
       "           'sometime',\n",
       "           'sometimes',\n",
       "           'somewhere',\n",
       "           'still',\n",
       "           'such',\n",
       "           'system',\n",
       "           'take',\n",
       "           'ten',\n",
       "           'than',\n",
       "           'that',\n",
       "           'the',\n",
       "           'their',\n",
       "           'them',\n",
       "           'themselves',\n",
       "           'then',\n",
       "           'thence',\n",
       "           'there',\n",
       "           'thereafter',\n",
       "           'thereby',\n",
       "           'therefore',\n",
       "           'therein',\n",
       "           'thereupon',\n",
       "           'these',\n",
       "           'they',\n",
       "           'thick',\n",
       "           'thin',\n",
       "           'third',\n",
       "           'this',\n",
       "           'those',\n",
       "           'though',\n",
       "           'three',\n",
       "           'through',\n",
       "           'throughout',\n",
       "           'thru',\n",
       "           'thus',\n",
       "           'to',\n",
       "           'together',\n",
       "           'too',\n",
       "           'top',\n",
       "           'toward',\n",
       "           'towards',\n",
       "           'twelve',\n",
       "           'twenty',\n",
       "           'two',\n",
       "           'un',\n",
       "           'under',\n",
       "           'unless',\n",
       "           'until',\n",
       "           'up',\n",
       "           'upon',\n",
       "           'us',\n",
       "           'used',\n",
       "           'using',\n",
       "           'various',\n",
       "           'very',\n",
       "           'via',\n",
       "           'was',\n",
       "           'we',\n",
       "           'well',\n",
       "           'were',\n",
       "           'what',\n",
       "           'whatever',\n",
       "           'when',\n",
       "           'whence',\n",
       "           'whenever',\n",
       "           'where',\n",
       "           'whereafter',\n",
       "           'whereas',\n",
       "           'whereby',\n",
       "           'wherein',\n",
       "           'whereupon',\n",
       "           'wherever',\n",
       "           'whether',\n",
       "           'which',\n",
       "           'while',\n",
       "           'whither',\n",
       "           'who',\n",
       "           'whoever',\n",
       "           'whole',\n",
       "           'whom',\n",
       "           'whose',\n",
       "           'why',\n",
       "           'will',\n",
       "           'with',\n",
       "           'within',\n",
       "           'without',\n",
       "           'would',\n",
       "           'yet',\n",
       "           'you',\n",
       "           'your',\n",
       "           'yours',\n",
       "           'yourself',\n",
       "           'yourselves'})"
      ]
     },
     "execution_count": 12,
     "metadata": {},
     "output_type": "execute_result"
    }
   ],
   "source": [
    "# stopwords in the list\n",
    "gensim.parsing.preprocessing.STOPWORDS"
   ]
  },
  {
   "cell_type": "markdown",
   "metadata": {
    "slideshow": {
     "slide_type": "subslide"
    }
   },
   "source": [
    "Let's look at how it works for a few sentences:"
   ]
  },
  {
   "cell_type": "code",
   "execution_count": 13,
   "metadata": {
    "slideshow": {
     "slide_type": "fragment"
    }
   },
   "outputs": [],
   "source": [
    "sentence1 = \"We are trying to learn how to implement topic modeling using LDA\"\n",
    "sentence2 = \"This is a sample sentence to check how to remove stopwords from a sentence\""
   ]
  },
  {
   "cell_type": "markdown",
   "metadata": {
    "slideshow": {
     "slide_type": "fragment"
    }
   },
   "source": [
    "First, we shall tokenize the above sentences and then compare it with the stopwords. In order to do that, we will use the gensim.utils.simple_preprocess() function. Let's try that:"
   ]
  },
  {
   "cell_type": "code",
   "execution_count": 14,
   "metadata": {
    "slideshow": {
     "slide_type": "subslide"
    }
   },
   "outputs": [
    {
     "name": "stdout",
     "output_type": "stream",
     "text": [
      "['we', 'are', 'trying', 'to', 'learn', 'how', 'to', 'implement', 'topic', 'modeling', 'using', 'lda']\n",
      "['this', 'is', 'sample', 'sentence', 'to', 'check', 'how', 'to', 'remove', 'stopwords', 'from', 'sentence']\n"
     ]
    }
   ],
   "source": [
    "print(gensim.utils.simple_preprocess(sentence1))\n",
    "print(gensim.utils.simple_preprocess(sentence2))"
   ]
  },
  {
   "cell_type": "markdown",
   "metadata": {
    "slideshow": {
     "slide_type": "fragment"
    }
   },
   "source": [
    "The tokenization works, so next let's try to remove all the stopwords from each of the sentences."
   ]
  },
  {
   "cell_type": "code",
   "execution_count": 15,
   "metadata": {
    "slideshow": {
     "slide_type": "subslide"
    }
   },
   "outputs": [
    {
     "name": "stdout",
     "output_type": "stream",
     "text": [
      "['trying', 'learn', 'implement', 'topic', 'modeling']\n",
      "['sample', 'sentence', 'check', 'remove', 'stopwords', 'sentence']\n"
     ]
    }
   ],
   "source": [
    "# initializing two empty lists for each of the sentences\n",
    "res1 = []\n",
    "res2 = []\n",
    "\n",
    "for word in gensim.utils.simple_preprocess(sentence1):\n",
    "    if word not in gensim.parsing.preprocessing.STOPWORDS and len(word) > 3:\n",
    "        res1.append(word)\n",
    "        \n",
    "for word in gensim.utils.simple_preprocess(sentence2):\n",
    "    if word not in gensim.parsing.preprocessing.STOPWORDS and len(word) > 3:\n",
    "        res2.append(word)\n",
    "\n",
    "print(res1)\n",
    "print(res2)\n",
    "\n",
    "# Note that we also checked for the length of the words along with removing stopwords"
   ]
  },
  {
   "cell_type": "markdown",
   "metadata": {
    "slideshow": {
     "slide_type": "subslide"
    }
   },
   "source": [
    "Now that we have a way to remove the stopwords, we can combine the two processes of stemming/lemmatization and removing stopwords and define a function to help us do this"
   ]
  },
  {
   "cell_type": "code",
   "execution_count": 20,
   "metadata": {
    "slideshow": {
     "slide_type": "fragment"
    }
   },
   "outputs": [],
   "source": [
    "# function to preprocess the text\n",
    "\n",
    "def preprocess(text):\n",
    "    result = []\n",
    "    for word in gensim.utils.simple_preprocess(text):\n",
    "        if word not in gensim.parsing.preprocessing.STOPWORDS and len(word) > 3:\n",
    "            l = lemmatize(word)\n",
    "            if len(l) > 3:\n",
    "                result.append(l)\n",
    "    return result"
   ]
  },
  {
   "cell_type": "markdown",
   "metadata": {
    "slideshow": {
     "slide_type": "subslide"
    }
   },
   "source": [
    "Let's see how this works for the news article at index = 500 from the data frame above that had the headline \"<font color = \"red\">committal continues into goulburn jail riot</font>\""
   ]
  },
  {
   "cell_type": "code",
   "execution_count": 21,
   "metadata": {
    "slideshow": {
     "slide_type": "fragment"
    }
   },
   "outputs": [
    {
     "data": {
      "text/plain": [
       "['committal', 'continue', 'goulburn', 'jail', 'riot']"
      ]
     },
     "execution_count": 21,
     "metadata": {},
     "output_type": "execute_result"
    }
   ],
   "source": [
    "preprocess(news.iloc[500,0])"
   ]
  },
  {
   "cell_type": "markdown",
   "metadata": {
    "slideshow": {
     "slide_type": "fragment"
    }
   },
   "source": [
    "It works!!! Now we can implement this preprocessing function over the entire data we have."
   ]
  },
  {
   "cell_type": "code",
   "execution_count": 22,
   "metadata": {
    "slideshow": {
     "slide_type": "subslide"
    }
   },
   "outputs": [],
   "source": [
    "processed_news = news['headline_text'].map(preprocess)"
   ]
  },
  {
   "cell_type": "code",
   "execution_count": 19,
   "metadata": {
    "slideshow": {
     "slide_type": "fragment"
    }
   },
   "outputs": [
    {
     "data": {
      "text/plain": [
       "500    [committal, continue, goulburn, jail, riot]             \n",
       "501    [costello, unhappy, wasnt, consult, stone]              \n",
       "502    [council, approve, poultry, farm]                       \n",
       "503    [council, await, rain]                                  \n",
       "504    [council, consider, indigenous, caravan, park, plan]    \n",
       "505    [council, elections, plan]                              \n",
       "506    [council, reject, combine, field, days, stand, idea]    \n",
       "507    [council, change, tree, protection]                     \n",
       "508    [council, fund, groundwater, study]                     \n",
       "509    [counsel, begin, warn, dope, hear]                      \n",
       "510    [criminal, charge, pending, south, korea, subway, probe]\n",
       "511    [crocs, prove, good, bullets]                           \n",
       "512    [date, bushfires, coronial, inquiry]                    \n",
       "513    [dean, receive, lifetime, parliamentary, pension]       \n",
       "514    [death, spell, record, marriage]                        \n",
       "515    [demons, thump, tigers]                                 \n",
       "516    [deportivo, cali, outclass, sulky, river, plate]        \n",
       "517    [deschamps, chase, flame, marseille]                    \n",
       "518    [disaster, fund, allow, shire, complete]                \n",
       "519    [dortmund, ready, hound, bayern]                        \n",
       "Name: headline_text, dtype: object"
      ]
     },
     "execution_count": 19,
     "metadata": {},
     "output_type": "execute_result"
    }
   ],
   "source": [
    "processed_news[500:520]"
   ]
  },
  {
   "cell_type": "markdown",
   "metadata": {
    "slideshow": {
     "slide_type": "subslide"
    }
   },
   "source": [
    "Let's now see if the visualization of words from the pre-processed text shows us something different"
   ]
  },
  {
   "cell_type": "code",
   "execution_count": 157,
   "metadata": {
    "slideshow": {
     "slide_type": "fragment"
    }
   },
   "outputs": [
    {
     "data": {
      "image/png": "[encoded data removed]",
      "text/plain": [
       "<Figure size 864x864 with 1 Axes>"
      ]
     },
     "metadata": {
      "needs_background": "light"
     },
     "output_type": "display_data"
    }
   ],
   "source": [
    "text = \" \".join(word for i in range(0, len(processed_news)) for word in processed_news[i])\n",
    "\n",
    "wordcloud = WordCloud(background_color=\"white\").generate(text)\n",
    "plt.figure(figsize = (12,12))\n",
    "plt.imshow(wordcloud, interpolation = 'bilinear')\n",
    "plt.axis(\"off\")\n",
    "plt.show()"
   ]
  },
  {
   "cell_type": "markdown",
   "metadata": {
    "slideshow": {
     "slide_type": "slide"
    }
   },
   "source": [
    "## <a name = \"model\"></a> Modeling"
   ]
  },
  {
   "cell_type": "markdown",
   "metadata": {
    "slideshow": {
     "slide_type": "subslide"
    }
   },
   "source": [
    "In order to model, we will try to examine these approaches:\n",
    "1. LDA using bag of words\n",
    "2. LDA using TF-IDF"
   ]
  },
  {
   "cell_type": "markdown",
   "metadata": {
    "slideshow": {
     "slide_type": "subslide"
    }
   },
   "source": [
    "### Bag of words"
   ]
  },
  {
   "cell_type": "markdown",
   "metadata": {
    "slideshow": {
     "slide_type": "fragment"
    }
   },
   "source": [
    "This method uses frequency of occurence of words in the corpus as a feature. The bag of words approach uses the following:\n",
    "1. Vocabulary of known words (dictionary)\n",
    "2. A measure of presence/occurence of words from the vocabulary\n",
    "\n",
    "Since topic modeling algorithms cannot deal with raw text directly, it needs to be converted to vector of numbers. This is what the bag of words approach helps us achieve."
   ]
  },
  {
   "cell_type": "code",
   "execution_count": 30,
   "metadata": {
    "slideshow": {
     "slide_type": "subslide"
    }
   },
   "outputs": [],
   "source": [
    "# creates a dictionary of unique words from the corpus\n",
    "dictionary = Dictionary(processed_news)"
   ]
  },
  {
   "cell_type": "code",
   "execution_count": 31,
   "metadata": {
    "slideshow": {
     "slide_type": "fragment"
    }
   },
   "outputs": [
    {
     "name": "stdout",
     "output_type": "stream",
     "text": [
      "0 broadcast\n",
      "1 community\n",
      "2 decide\n",
      "3 licence\n",
      "4 aware\n",
      "5 defamation\n",
      "6 witness\n",
      "7 call\n",
      "8 infrastructure\n",
      "9 protection\n",
      "10 summit\n"
     ]
    }
   ],
   "source": [
    "count = 0\n",
    "for k, v in dictionary.iteritems():\n",
    "    print(k, v)\n",
    "    count += 1\n",
    "    if count > 10:\n",
    "        break"
   ]
  },
  {
   "cell_type": "code",
   "execution_count": 32,
   "metadata": {
    "slideshow": {
     "slide_type": "fragment"
    }
   },
   "outputs": [
    {
     "data": {
      "text/plain": [
       "77409"
      ]
     },
     "execution_count": 32,
     "metadata": {},
     "output_type": "execute_result"
    }
   ],
   "source": [
    "# these are the number of unique words identified from the pre-processed news articles\n",
    "len(dictionary)"
   ]
  },
  {
   "cell_type": "markdown",
   "metadata": {
    "slideshow": {
     "slide_type": "fragment"
    }
   },
   "source": [
    "Given that there are about 1.1 million articles in the dataset, the number of unique words that would be used for modeling still seem to be high. In order for us to filter this out further, we will try to remove the following type of words:\n",
    "1. All of the words that appear in less than 'x' number of the articles\n",
    "2. All of the words that appear in more than 'y%' of the articles\n",
    "\n",
    "In order to select the values of x and y, we will inspect our dictionary."
   ]
  },
  {
   "cell_type": "code",
   "execution_count": 39,
   "metadata": {
    "slideshow": {
     "slide_type": "subslide"
    }
   },
   "outputs": [
    {
     "data": {
      "text/html": [
       "<div>\n",
       "<style scoped>\n",
       "    .dataframe tbody tr th:only-of-type {\n",
       "        vertical-align: middle;\n",
       "    }\n",
       "\n",
       "    .dataframe tbody tr th {\n",
       "        vertical-align: top;\n",
       "    }\n",
       "\n",
       "    .dataframe thead th {\n",
       "        text-align: right;\n",
       "    }\n",
       "</style>\n",
       "<table border=\"1\" class=\"dataframe\">\n",
       "  <thead>\n",
       "    <tr style=\"text-align: right;\">\n",
       "      <th></th>\n",
       "      <th>number of documents</th>\n",
       "      <th>word</th>\n",
       "    </tr>\n",
       "  </thead>\n",
       "  <tbody>\n",
       "    <tr>\n",
       "      <td>238</td>\n",
       "      <td>36127</td>\n",
       "      <td>police</td>\n",
       "    </tr>\n",
       "    <tr>\n",
       "      <td>47</td>\n",
       "      <td>22403</td>\n",
       "      <td>plan</td>\n",
       "    </tr>\n",
       "    <tr>\n",
       "      <td>323</td>\n",
       "      <td>19267</td>\n",
       "      <td>charge</td>\n",
       "    </tr>\n",
       "    <tr>\n",
       "      <td>165</td>\n",
       "      <td>16922</td>\n",
       "      <td>govt</td>\n",
       "    </tr>\n",
       "    <tr>\n",
       "      <td>213</td>\n",
       "      <td>16727</td>\n",
       "      <td>court</td>\n",
       "    </tr>\n",
       "    <tr>\n",
       "      <td>...</td>\n",
       "      <td>...</td>\n",
       "      <td>...</td>\n",
       "    </tr>\n",
       "    <tr>\n",
       "      <td>50384</td>\n",
       "      <td>1</td>\n",
       "      <td>hallahan</td>\n",
       "    </tr>\n",
       "    <tr>\n",
       "      <td>50383</td>\n",
       "      <td>1</td>\n",
       "      <td>dazy</td>\n",
       "    </tr>\n",
       "    <tr>\n",
       "      <td>50382</td>\n",
       "      <td>1</td>\n",
       "      <td>blakefield</td>\n",
       "    </tr>\n",
       "    <tr>\n",
       "      <td>50380</td>\n",
       "      <td>1</td>\n",
       "      <td>blechynden</td>\n",
       "    </tr>\n",
       "    <tr>\n",
       "      <td>77407</td>\n",
       "      <td>1</td>\n",
       "      <td>ausus</td>\n",
       "    </tr>\n",
       "  </tbody>\n",
       "</table>\n",
       "<p>77409 rows × 2 columns</p>\n",
       "</div>"
      ],
      "text/plain": [
       "       number of documents        word\n",
       "238    36127                police    \n",
       "47     22403                plan      \n",
       "323    19267                charge    \n",
       "165    16922                govt      \n",
       "213    16727                court     \n",
       "...      ...                  ...     \n",
       "50384  1                    hallahan  \n",
       "50383  1                    dazy      \n",
       "50382  1                    blakefield\n",
       "50380  1                    blechynden\n",
       "77407  1                    ausus     \n",
       "\n",
       "[77409 rows x 2 columns]"
      ]
     },
     "execution_count": 39,
     "metadata": {},
     "output_type": "execute_result"
    }
   ],
   "source": [
    "# document frequencies\n",
    "\n",
    "words_in_articles = pd.DataFrame.from_dict(dictionary.dfs, orient = 'index', columns = [\"number of documents\"])\n",
    "words_in_articles.sort_values(\"number of documents\", ascending = False, inplace = True)\n",
    "\n",
    "list1 = words_in_articles.index\n",
    "\n",
    "words_freq = {}\n",
    "for i in list1:\n",
    "    words_freq[dictionary[i]] = words_in_articles['number of documents'][i]\n",
    "\n",
    "words_in_articles['word'] = words_freq.keys()\n",
    "words_in_articles"
   ]
  },
  {
   "cell_type": "code",
   "execution_count": 44,
   "metadata": {
    "slideshow": {
     "slide_type": "subslide"
    }
   },
   "outputs": [
    {
     "data": {
      "text/plain": [
       "3588"
      ]
     },
     "execution_count": 44,
     "metadata": {},
     "output_type": "execute_result"
    }
   ],
   "source": [
    "# filter the extremes\n",
    "dictionary.filter_extremes(no_below = 200, no_above = 0.5)\n",
    "\n",
    "len(dictionary)"
   ]
  },
  {
   "cell_type": "markdown",
   "metadata": {
    "slideshow": {
     "slide_type": "fragment"
    }
   },
   "source": [
    "Now that we've reduced our dictionary to 3,588 unique words, the model should be able to provide us highly specific words to interpret the topic."
   ]
  },
  {
   "cell_type": "code",
   "execution_count": 45,
   "metadata": {
    "slideshow": {
     "slide_type": "subslide"
    }
   },
   "outputs": [],
   "source": [
    "bag_of_words = [dictionary.doc2bow(news) for news in processed_news]"
   ]
  },
  {
   "cell_type": "markdown",
   "metadata": {
    "slideshow": {
     "slide_type": "fragment"
    }
   },
   "source": [
    "This method of converting the documents into vectors is what we shall use as input to the LDA model algorithm. "
   ]
  },
  {
   "cell_type": "markdown",
   "metadata": {
    "slideshow": {
     "slide_type": "subslide"
    }
   },
   "source": [
    "The LDA model can be run with the function models.LdaMulticore() which is available in the **gensim** library. The parameters it uses are:\n",
    "1. The bag-of-words vector\n",
    "2. The number of latent topics we wish to extract from this model\n",
    "3. A dictionary of the known vocabulary from the corpus\n",
    "4. Number of passes you wish to make over the entire corpus to fit the model (Note: by default passes = 1, anything more may give you a better result but may be computationally more expensive)\n",
    "5. Number of cores you want to run it on for parallelization (optimal performance will be on {number of cores - 1})"
   ]
  },
  {
   "cell_type": "code",
   "execution_count": 62,
   "metadata": {
    "slideshow": {
     "slide_type": "fragment"
    }
   },
   "outputs": [],
   "source": [
    "# LDA model using the bag-of-words\n",
    "\n",
    "lda_model_bow = models.LdaMulticore(bag_of_words, num_topics=10, id2word=dictionary, passes=2, workers=1)"
   ]
  },
  {
   "cell_type": "markdown",
   "metadata": {
    "slideshow": {
     "slide_type": "subslide"
    }
   },
   "source": [
    "Let's see the topics we got based on our LDA model."
   ]
  },
  {
   "cell_type": "code",
   "execution_count": 63,
   "metadata": {
    "slideshow": {
     "slide_type": "fragment"
    }
   },
   "outputs": [
    {
     "name": "stdout",
     "output_type": "stream",
     "text": [
      "Topic: 0 \n",
      "Words: 0.043*\"court\" + 0.027*\"canberra\" + 0.027*\"face\" + 0.020*\"people\" + 0.020*\"labor\" + 0.017*\"water\" + 0.017*\"marriage\" + 0.014*\"indigenous\" + 0.014*\"hear\" + 0.013*\"rural\"\n",
      "\n",
      "Topic: 1 \n",
      "Words: 0.035*\"queensland\" + 0.032*\"attack\" + 0.028*\"kill\" + 0.027*\"south\" + 0.019*\"miss\" + 0.018*\"china\" + 0.016*\"tasmania\" + 0.016*\"deal\" + 0.016*\"interview\" + 0.015*\"lose\"\n",
      "\n",
      "Topic: 2 \n",
      "Words: 0.030*\"donald\" + 0.026*\"warn\" + 0.022*\"turnbull\" + 0.020*\"drug\" + 0.020*\"arrest\" + 0.017*\"final\" + 0.017*\"tell\" + 0.016*\"trial\" + 0.014*\"australias\" + 0.013*\"christmas\"\n",
      "\n",
      "Topic: 3 \n",
      "Words: 0.037*\"charge\" + 0.027*\"murder\" + 0.024*\"home\" + 0.023*\"woman\" + 0.021*\"years\" + 0.020*\"jail\" + 0.018*\"accuse\" + 0.018*\"child\" + 0.017*\"help\" + 0.017*\"leave\"\n",
      "\n",
      "Topic: 4 \n",
      "Words: 0.059*\"trump\" + 0.047*\"australian\" + 0.028*\"adelaide\" + 0.025*\"perth\" + 0.024*\"crash\" + 0.024*\"election\" + 0.024*\"report\" + 0.022*\"open\" + 0.017*\"time\" + 0.017*\"family\"\n",
      "\n",
      "Topic: 5 \n",
      "Words: 0.041*\"sydney\" + 0.039*\"government\" + 0.027*\"school\" + 0.020*\"death\" + 0.016*\"take\" + 0.016*\"service\" + 0.015*\"national\" + 0.014*\"victoria\" + 0.014*\"flood\" + 0.013*\"park\"\n",
      "\n",
      "Topic: 6 \n",
      "Words: 0.057*\"australia\" + 0.028*\"police\" + 0.027*\"world\" + 0.026*\"house\" + 0.019*\"shoot\" + 0.016*\"women\" + 0.015*\"test\" + 0.015*\"league\" + 0.013*\"guilty\" + 0.012*\"island\"\n",
      "\n",
      "Topic: 7 \n",
      "Words: 0.033*\"north\" + 0.026*\"coast\" + 0.025*\"brisbane\" + 0.020*\"high\" + 0.019*\"record\" + 0.017*\"break\" + 0.017*\"west\" + 0.016*\"gold\" + 0.015*\"vote\" + 0.013*\"young\"\n",
      "\n",
      "Topic: 8 \n",
      "Words: 0.024*\"year\" + 0.022*\"melbourne\" + 0.021*\"market\" + 0.019*\"tasmanian\" + 0.018*\"hospital\" + 0.016*\"show\" + 0.015*\"share\" + 0.014*\"country\" + 0.014*\"fall\" + 0.013*\"price\"\n",
      "\n",
      "Topic: 9 \n",
      "Words: 0.024*\"change\" + 0.021*\"live\" + 0.020*\"state\" + 0.019*\"health\" + 0.017*\"call\" + 0.016*\"fund\" + 0.014*\"meet\" + 0.013*\"case\" + 0.012*\"want\" + 0.012*\"game\"\n",
      "\n"
     ]
    }
   ],
   "source": [
    "# topics we got from our LDA model\n",
    "\n",
    "for idx, topic in lda_model_bow.print_topics(-1):\n",
    "    print('Topic: {} \\nWords: {}\\n'.format(idx, topic))"
   ]
  },
  {
   "cell_type": "markdown",
   "metadata": {
    "slideshow": {
     "slide_type": "fragment"
    }
   },
   "source": [
    "**Could you identify a topic to allocate to some of these topics?**"
   ]
  },
  {
   "cell_type": "code",
   "execution_count": 65,
   "metadata": {
    "slideshow": {
     "slide_type": "subslide"
    }
   },
   "outputs": [],
   "source": [
    "# I am defining a function to gives us the actual headline and the associated processed list\n",
    "def show_headline(n):\n",
    "    print(news.headline_text[n])\n",
    "    print(processed_news[n])"
   ]
  },
  {
   "cell_type": "code",
   "execution_count": 89,
   "metadata": {
    "slideshow": {
     "slide_type": "fragment"
    }
   },
   "outputs": [
    {
     "name": "stdout",
     "output_type": "stream",
     "text": [
      "council to change tree protection by law\n",
      "['council', 'change', 'tree', 'protection']\n"
     ]
    }
   ],
   "source": [
    "# we will use these to check which topics get allotted: 507, 508, 509, 510\n",
    "t = bag_of_words[507]\n",
    "show_headline(507)"
   ]
  },
  {
   "cell_type": "code",
   "execution_count": 90,
   "metadata": {
    "slideshow": {
     "slide_type": "fragment"
    }
   },
   "outputs": [
    {
     "name": "stdout",
     "output_type": "stream",
     "text": [
      "\n",
      "Score: 0.6200054287910461\t \n",
      "Topic: 0.024*\"change\" + 0.021*\"live\" + 0.020*\"state\" + 0.019*\"health\" + 0.017*\"call\" + 0.016*\"fund\" + 0.014*\"meet\" + 0.013*\"case\" + 0.012*\"want\" + 0.012*\"game\"\n",
      "\n",
      "\n",
      "Score: 0.21998025476932526\t \n",
      "Topic: 0.024*\"year\" + 0.022*\"melbourne\" + 0.021*\"market\" + 0.019*\"tasmanian\" + 0.018*\"hospital\" + 0.016*\"show\" + 0.015*\"share\" + 0.014*\"country\" + 0.014*\"fall\" + 0.013*\"price\"\n",
      "\n",
      "\n",
      "Score: 0.020006824284791946\t \n",
      "Topic: 0.041*\"sydney\" + 0.039*\"government\" + 0.027*\"school\" + 0.020*\"death\" + 0.016*\"take\" + 0.016*\"service\" + 0.015*\"national\" + 0.014*\"victoria\" + 0.014*\"flood\" + 0.013*\"park\"\n",
      "\n",
      "\n",
      "Score: 0.02000107243657112\t \n",
      "Topic: 0.043*\"court\" + 0.027*\"canberra\" + 0.027*\"face\" + 0.020*\"people\" + 0.020*\"labor\" + 0.017*\"water\" + 0.017*\"marriage\" + 0.014*\"indigenous\" + 0.014*\"hear\" + 0.013*\"rural\"\n",
      "\n",
      "\n",
      "Score: 0.02000107243657112\t \n",
      "Topic: 0.035*\"queensland\" + 0.032*\"attack\" + 0.028*\"kill\" + 0.027*\"south\" + 0.019*\"miss\" + 0.018*\"china\" + 0.016*\"tasmania\" + 0.016*\"deal\" + 0.016*\"interview\" + 0.015*\"lose\"\n",
      "\n",
      "\n",
      "Score: 0.02000107243657112\t \n",
      "Topic: 0.030*\"donald\" + 0.026*\"warn\" + 0.022*\"turnbull\" + 0.020*\"drug\" + 0.020*\"arrest\" + 0.017*\"final\" + 0.017*\"tell\" + 0.016*\"trial\" + 0.014*\"australias\" + 0.013*\"christmas\"\n",
      "\n",
      "\n",
      "Score: 0.02000107243657112\t \n",
      "Topic: 0.037*\"charge\" + 0.027*\"murder\" + 0.024*\"home\" + 0.023*\"woman\" + 0.021*\"years\" + 0.020*\"jail\" + 0.018*\"accuse\" + 0.018*\"child\" + 0.017*\"help\" + 0.017*\"leave\"\n",
      "\n",
      "\n",
      "Score: 0.02000107243657112\t \n",
      "Topic: 0.059*\"trump\" + 0.047*\"australian\" + 0.028*\"adelaide\" + 0.025*\"perth\" + 0.024*\"crash\" + 0.024*\"election\" + 0.024*\"report\" + 0.022*\"open\" + 0.017*\"time\" + 0.017*\"family\"\n",
      "\n",
      "\n",
      "Score: 0.02000107243657112\t \n",
      "Topic: 0.057*\"australia\" + 0.028*\"police\" + 0.027*\"world\" + 0.026*\"house\" + 0.019*\"shoot\" + 0.016*\"women\" + 0.015*\"test\" + 0.015*\"league\" + 0.013*\"guilty\" + 0.012*\"island\"\n",
      "\n",
      "\n",
      "Score: 0.02000107243657112\t \n",
      "Topic: 0.033*\"north\" + 0.026*\"coast\" + 0.025*\"brisbane\" + 0.020*\"high\" + 0.019*\"record\" + 0.017*\"break\" + 0.017*\"west\" + 0.016*\"gold\" + 0.015*\"vote\" + 0.013*\"young\"\n",
      "\n"
     ]
    }
   ],
   "source": [
    "for index, score in sorted(lda_model_bow[t], key = lambda x: -1*x[1]):\n",
    "    print(\"\\nScore: {}\\t \\nTopic: {}\\n\".format(score, lda_model_bow.print_topic(index, 10)))"
   ]
  },
  {
   "cell_type": "markdown",
   "metadata": {
    "slideshow": {
     "slide_type": "subslide"
    }
   },
   "source": [
    "We can see that the LDA model using bag of words, definitely allocates topics in the way we expect it to for most of the examples with a high probability.\n",
    "\n",
    "However, let's see if this could work for predictions on external news articles."
   ]
  },
  {
   "cell_type": "code",
   "execution_count": 91,
   "metadata": {
    "slideshow": {
     "slide_type": "subslide"
    }
   },
   "outputs": [
    {
     "name": "stdout",
     "output_type": "stream",
     "text": [
      "\n",
      "Score: 0.299998939037323\t \n",
      "Topic: 0.030*\"donald\" + 0.026*\"warn\" + 0.022*\"turnbull\" + 0.020*\"drug\" + 0.020*\"arrest\" + 0.017*\"final\" + 0.017*\"tell\" + 0.016*\"trial\" + 0.014*\"australias\" + 0.013*\"christmas\"\n",
      "\n",
      "\n",
      "Score: 0.1571679562330246\t \n",
      "Topic: 0.057*\"australia\" + 0.028*\"police\" + 0.027*\"world\" + 0.026*\"house\" + 0.019*\"shoot\" + 0.016*\"women\" + 0.015*\"test\" + 0.015*\"league\" + 0.013*\"guilty\" + 0.012*\"island\"\n",
      "\n",
      "\n",
      "Score: 0.1571647673845291\t \n",
      "Topic: 0.035*\"queensland\" + 0.032*\"attack\" + 0.028*\"kill\" + 0.027*\"south\" + 0.019*\"miss\" + 0.018*\"china\" + 0.016*\"tasmania\" + 0.016*\"deal\" + 0.016*\"interview\" + 0.015*\"lose\"\n",
      "\n",
      "\n",
      "Score: 0.15715353190898895\t \n",
      "Topic: 0.041*\"sydney\" + 0.039*\"government\" + 0.027*\"school\" + 0.020*\"death\" + 0.016*\"take\" + 0.016*\"service\" + 0.015*\"national\" + 0.014*\"victoria\" + 0.014*\"flood\" + 0.013*\"park\"\n",
      "\n",
      "\n",
      "Score: 0.15707345306873322\t \n",
      "Topic: 0.043*\"court\" + 0.027*\"canberra\" + 0.027*\"face\" + 0.020*\"people\" + 0.020*\"labor\" + 0.017*\"water\" + 0.017*\"marriage\" + 0.014*\"indigenous\" + 0.014*\"hear\" + 0.013*\"rural\"\n",
      "\n",
      "\n",
      "Score: 0.014288266189396381\t \n",
      "Topic: 0.037*\"charge\" + 0.027*\"murder\" + 0.024*\"home\" + 0.023*\"woman\" + 0.021*\"years\" + 0.020*\"jail\" + 0.018*\"accuse\" + 0.018*\"child\" + 0.017*\"help\" + 0.017*\"leave\"\n",
      "\n",
      "\n",
      "Score: 0.014288266189396381\t \n",
      "Topic: 0.059*\"trump\" + 0.047*\"australian\" + 0.028*\"adelaide\" + 0.025*\"perth\" + 0.024*\"crash\" + 0.024*\"election\" + 0.024*\"report\" + 0.022*\"open\" + 0.017*\"time\" + 0.017*\"family\"\n",
      "\n",
      "\n",
      "Score: 0.014288266189396381\t \n",
      "Topic: 0.033*\"north\" + 0.026*\"coast\" + 0.025*\"brisbane\" + 0.020*\"high\" + 0.019*\"record\" + 0.017*\"break\" + 0.017*\"west\" + 0.016*\"gold\" + 0.015*\"vote\" + 0.013*\"young\"\n",
      "\n",
      "\n",
      "Score: 0.014288266189396381\t \n",
      "Topic: 0.024*\"year\" + 0.022*\"melbourne\" + 0.021*\"market\" + 0.019*\"tasmanian\" + 0.018*\"hospital\" + 0.016*\"show\" + 0.015*\"share\" + 0.014*\"country\" + 0.014*\"fall\" + 0.013*\"price\"\n",
      "\n",
      "\n",
      "Score: 0.014288266189396381\t \n",
      "Topic: 0.024*\"change\" + 0.021*\"live\" + 0.020*\"state\" + 0.019*\"health\" + 0.017*\"call\" + 0.016*\"fund\" + 0.014*\"meet\" + 0.013*\"case\" + 0.012*\"want\" + 0.012*\"game\"\n",
      "\n"
     ]
    }
   ],
   "source": [
    "unseen_news = \"Australia bushfires: New South Wales battles catastrophic conditions\"\n",
    "bow = dictionary.doc2bow(preprocess(unseen_news))\n",
    "\n",
    "for index, score in sorted(lda_model_bow[bow], key = lambda x: -1*x[1]):\n",
    "    print(\"\\nScore: {}\\t \\nTopic: {}\\n\".format(score, lda_model_bow.print_topic(index, 10)))"
   ]
  },
  {
   "cell_type": "code",
   "execution_count": 92,
   "metadata": {
    "slideshow": {
     "slide_type": "subslide"
    }
   },
   "outputs": [
    {
     "name": "stdout",
     "output_type": "stream",
     "text": [
      "\n",
      "Score: 0.2625325620174408\t \n",
      "Topic: 0.037*\"charge\" + 0.027*\"murder\" + 0.024*\"home\" + 0.023*\"woman\" + 0.021*\"years\" + 0.020*\"jail\" + 0.018*\"accuse\" + 0.018*\"child\" + 0.017*\"help\" + 0.017*\"leave\"\n",
      "\n",
      "\n",
      "Score: 0.26253223419189453\t \n",
      "Topic: 0.043*\"court\" + 0.027*\"canberra\" + 0.027*\"face\" + 0.020*\"people\" + 0.020*\"labor\" + 0.017*\"water\" + 0.017*\"marriage\" + 0.014*\"indigenous\" + 0.014*\"hear\" + 0.013*\"rural\"\n",
      "\n",
      "\n",
      "Score: 0.1375003606081009\t \n",
      "Topic: 0.033*\"north\" + 0.026*\"coast\" + 0.025*\"brisbane\" + 0.020*\"high\" + 0.019*\"record\" + 0.017*\"break\" + 0.017*\"west\" + 0.016*\"gold\" + 0.015*\"vote\" + 0.013*\"young\"\n",
      "\n",
      "\n",
      "Score: 0.13748568296432495\t \n",
      "Topic: 0.035*\"queensland\" + 0.032*\"attack\" + 0.028*\"kill\" + 0.027*\"south\" + 0.019*\"miss\" + 0.018*\"china\" + 0.016*\"tasmania\" + 0.016*\"deal\" + 0.016*\"interview\" + 0.015*\"lose\"\n",
      "\n",
      "\n",
      "Score: 0.13743413984775543\t \n",
      "Topic: 0.041*\"sydney\" + 0.039*\"government\" + 0.027*\"school\" + 0.020*\"death\" + 0.016*\"take\" + 0.016*\"service\" + 0.015*\"national\" + 0.014*\"victoria\" + 0.014*\"flood\" + 0.013*\"park\"\n",
      "\n",
      "\n",
      "Score: 0.012502998113632202\t \n",
      "Topic: 0.030*\"donald\" + 0.026*\"warn\" + 0.022*\"turnbull\" + 0.020*\"drug\" + 0.020*\"arrest\" + 0.017*\"final\" + 0.017*\"tell\" + 0.016*\"trial\" + 0.014*\"australias\" + 0.013*\"christmas\"\n",
      "\n",
      "\n",
      "Score: 0.012502998113632202\t \n",
      "Topic: 0.059*\"trump\" + 0.047*\"australian\" + 0.028*\"adelaide\" + 0.025*\"perth\" + 0.024*\"crash\" + 0.024*\"election\" + 0.024*\"report\" + 0.022*\"open\" + 0.017*\"time\" + 0.017*\"family\"\n",
      "\n",
      "\n",
      "Score: 0.012502998113632202\t \n",
      "Topic: 0.057*\"australia\" + 0.028*\"police\" + 0.027*\"world\" + 0.026*\"house\" + 0.019*\"shoot\" + 0.016*\"women\" + 0.015*\"test\" + 0.015*\"league\" + 0.013*\"guilty\" + 0.012*\"island\"\n",
      "\n",
      "\n",
      "Score: 0.012502998113632202\t \n",
      "Topic: 0.024*\"year\" + 0.022*\"melbourne\" + 0.021*\"market\" + 0.019*\"tasmanian\" + 0.018*\"hospital\" + 0.016*\"show\" + 0.015*\"share\" + 0.014*\"country\" + 0.014*\"fall\" + 0.013*\"price\"\n",
      "\n",
      "\n",
      "Score: 0.012502998113632202\t \n",
      "Topic: 0.024*\"change\" + 0.021*\"live\" + 0.020*\"state\" + 0.019*\"health\" + 0.017*\"call\" + 0.016*\"fund\" + 0.014*\"meet\" + 0.013*\"case\" + 0.012*\"want\" + 0.012*\"game\"\n",
      "\n"
     ]
    }
   ],
   "source": [
    "unseen_news = \"Scientists develop a new method for identifying potentially habitable planets that could host \\\n",
    "                ALIEN LIFE outside of our solar system\"\n",
    "bow = dictionary.doc2bow(preprocess(unseen_news))\n",
    "\n",
    "for index, score in sorted(lda_model_bow[bow], key = lambda x: -1*x[1]):\n",
    "    print(\"\\nScore: {}\\t \\nTopic: {}\\n\".format(score, lda_model_bow.print_topic(index, 10)))"
   ]
  },
  {
   "cell_type": "markdown",
   "metadata": {
    "slideshow": {
     "slide_type": "subslide"
    }
   },
   "source": [
    "### TF-IDF"
   ]
  },
  {
   "cell_type": "markdown",
   "metadata": {
    "slideshow": {
     "slide_type": "fragment"
    }
   },
   "source": [
    "This method helps with the problem that highly frequent words start to dominate in the document but may potentially not contain as much \"informational content\" on the latent topic.\n",
    "\n",
    "It has two components:\n",
    "1. Term Frequency (TF): scores the frequency of a word in the document\n",
    "2. Inverse Document Frequency(IDF): scores how rare a word is across documents.\n",
    "\n",
    "So essentially, it is scoring the frequency of the word in a given document but offsetting it by how rare the word is in the corpus. Let's try to build an LDA model using tf-idf corpus."
   ]
  },
  {
   "cell_type": "code",
   "execution_count": 99,
   "metadata": {
    "slideshow": {
     "slide_type": "subslide"
    }
   },
   "outputs": [],
   "source": [
    "# building a tf-idf corpus from the bag of words created earlier\n",
    "\n",
    "tfidf = models.TfidfModel(bag_of_words)\n",
    "corpus_tfidf = tfidf[bag_of_words]"
   ]
  },
  {
   "cell_type": "code",
   "execution_count": 100,
   "metadata": {
    "slideshow": {
     "slide_type": "fragment"
    }
   },
   "outputs": [],
   "source": [
    "# LDA model using the tf-idf corpus\n",
    "\n",
    "lda_tfidf = gensim.models.LdaMulticore(corpus_tfidf, num_topics=10, id2word=dictionary, passes=2, workers=1)"
   ]
  },
  {
   "cell_type": "markdown",
   "metadata": {
    "slideshow": {
     "slide_type": "subslide"
    }
   },
   "source": [
    "Let's see the topics we get with the LDA model using tf-idf"
   ]
  },
  {
   "cell_type": "code",
   "execution_count": 103,
   "metadata": {
    "slideshow": {
     "slide_type": "fragment"
    }
   },
   "outputs": [
    {
     "name": "stdout",
     "output_type": "stream",
     "text": [
      "Topic: 0 \n",
      "Words: 0.022*\"turnbull\" + 0.018*\"tasmania\" + 0.018*\"miss\" + 0.017*\"show\" + 0.015*\"malcolm\" + 0.013*\"search\" + 0.012*\"world\" + 0.012*\"near\" + 0.011*\"body\" + 0.011*\"battle\"\n",
      "\n",
      "Topic: 1 \n",
      "Words: 0.035*\"queensland\" + 0.019*\"women\" + 0.014*\"young\" + 0.013*\"aboriginal\" + 0.012*\"mother\" + 0.012*\"parliament\" + 0.012*\"australians\" + 0.011*\"know\" + 0.010*\"play\" + 0.010*\"season\"\n",
      "\n",
      "Topic: 2 \n",
      "Words: 0.025*\"years\" + 0.017*\"break\" + 0.015*\"news\" + 0.015*\"city\" + 0.013*\"state\" + 0.013*\"mark\" + 0.012*\"announce\" + 0.011*\"citizenship\" + 0.011*\"come\" + 0.010*\"year\"\n",
      "\n",
      "Topic: 3 \n",
      "Words: 0.057*\"trump\" + 0.014*\"league\" + 0.014*\"country\" + 0.013*\"australias\" + 0.012*\"john\" + 0.012*\"election\" + 0.012*\"hobart\" + 0.011*\"star\" + 0.010*\"turn\" + 0.010*\"race\"\n",
      "\n",
      "Topic: 4 \n",
      "Words: 0.022*\"live\" + 0.014*\"week\" + 0.011*\"million\" + 0.011*\"test\" + 0.010*\"speak\" + 0.010*\"western\" + 0.010*\"womens\" + 0.010*\"senate\" + 0.009*\"right\" + 0.009*\"australia\"\n",
      "\n",
      "Topic: 5 \n",
      "Words: 0.027*\"government\" + 0.016*\"coast\" + 0.016*\"market\" + 0.015*\"tasmanian\" + 0.014*\"south\" + 0.012*\"west\" + 0.012*\"bank\" + 0.012*\"share\" + 0.011*\"gold\" + 0.011*\"christmas\"\n",
      "\n",
      "Topic: 6 \n",
      "Words: 0.019*\"charge\" + 0.018*\"murder\" + 0.017*\"police\" + 0.015*\"court\" + 0.015*\"woman\" + 0.014*\"crash\" + 0.012*\"shoot\" + 0.012*\"death\" + 0.011*\"interview\" + 0.011*\"perth\"\n",
      "\n",
      "Topic: 7 \n",
      "Words: 0.020*\"marriage\" + 0.018*\"life\" + 0.017*\"child\" + 0.015*\"victoria\" + 0.013*\"abuse\" + 0.013*\"energy\" + 0.010*\"president\" + 0.010*\"kill\" + 0.010*\"sport\" + 0.010*\"drive\"\n",
      "\n",
      "Topic: 8 \n",
      "Words: 0.029*\"donald\" + 0.015*\"drum\" + 0.013*\"children\" + 0.013*\"record\" + 0.012*\"street\" + 0.012*\"island\" + 0.011*\"rise\" + 0.009*\"quiz\" + 0.009*\"fall\" + 0.009*\"festival\"\n",
      "\n",
      "Topic: 9 \n",
      "Words: 0.016*\"people\" + 0.014*\"power\" + 0.013*\"adelaide\" + 0.012*\"korea\" + 0.011*\"north\" + 0.010*\"park\" + 0.008*\"station\" + 0.008*\"farm\" + 0.008*\"premier\" + 0.008*\"protest\"\n",
      "\n"
     ]
    }
   ],
   "source": [
    "for idx, topic in lda_tfidf.print_topics(-1):\n",
    "    print('Topic: {} \\nWords: {}\\n'.format(idx, topic))"
   ]
  },
  {
   "cell_type": "code",
   "execution_count": 110,
   "metadata": {
    "slideshow": {
     "slide_type": "subslide"
    }
   },
   "outputs": [
    {
     "name": "stdout",
     "output_type": "stream",
     "text": [
      "criminal charges pending in south korea subway probe\n",
      "['criminal', 'charge', 'pending', 'south', 'korea', 'subway', 'probe']\n"
     ]
    }
   ],
   "source": [
    "# we will use these to check which topics get allotted: 507, 508, 509, 510\n",
    "t = bag_of_words[510]\n",
    "show_headline(510)"
   ]
  },
  {
   "cell_type": "code",
   "execution_count": 111,
   "metadata": {
    "slideshow": {
     "slide_type": "fragment"
    }
   },
   "outputs": [
    {
     "name": "stdout",
     "output_type": "stream",
     "text": [
      "\n",
      "Score: 0.3995852470397949\t \n",
      "Topic: 0.016*\"people\" + 0.014*\"power\" + 0.013*\"adelaide\" + 0.012*\"korea\" + 0.011*\"north\" + 0.010*\"park\" + 0.008*\"station\" + 0.008*\"farm\" + 0.008*\"premier\" + 0.008*\"protest\"\n",
      "\n",
      "\n",
      "Score: 0.2542281448841095\t \n",
      "Topic: 0.019*\"charge\" + 0.018*\"murder\" + 0.017*\"police\" + 0.015*\"court\" + 0.015*\"woman\" + 0.014*\"crash\" + 0.012*\"shoot\" + 0.012*\"death\" + 0.011*\"interview\" + 0.011*\"perth\"\n",
      "\n",
      "\n",
      "Score: 0.22949931025505066\t \n",
      "Topic: 0.020*\"marriage\" + 0.018*\"life\" + 0.017*\"child\" + 0.015*\"victoria\" + 0.013*\"abuse\" + 0.013*\"energy\" + 0.010*\"president\" + 0.010*\"kill\" + 0.010*\"sport\" + 0.010*\"drive\"\n",
      "\n",
      "\n",
      "Score: 0.01667596958577633\t \n",
      "Topic: 0.027*\"government\" + 0.016*\"coast\" + 0.016*\"market\" + 0.015*\"tasmanian\" + 0.014*\"south\" + 0.012*\"west\" + 0.012*\"bank\" + 0.012*\"share\" + 0.011*\"gold\" + 0.011*\"christmas\"\n",
      "\n",
      "\n",
      "Score: 0.016668548807501793\t \n",
      "Topic: 0.022*\"turnbull\" + 0.018*\"tasmania\" + 0.018*\"miss\" + 0.017*\"show\" + 0.015*\"malcolm\" + 0.013*\"search\" + 0.012*\"world\" + 0.012*\"near\" + 0.011*\"body\" + 0.011*\"battle\"\n",
      "\n",
      "\n",
      "Score: 0.016668548807501793\t \n",
      "Topic: 0.035*\"queensland\" + 0.019*\"women\" + 0.014*\"young\" + 0.013*\"aboriginal\" + 0.012*\"mother\" + 0.012*\"parliament\" + 0.012*\"australians\" + 0.011*\"know\" + 0.010*\"play\" + 0.010*\"season\"\n",
      "\n",
      "\n",
      "Score: 0.016668548807501793\t \n",
      "Topic: 0.025*\"years\" + 0.017*\"break\" + 0.015*\"news\" + 0.015*\"city\" + 0.013*\"state\" + 0.013*\"mark\" + 0.012*\"announce\" + 0.011*\"citizenship\" + 0.011*\"come\" + 0.010*\"year\"\n",
      "\n",
      "\n",
      "Score: 0.016668548807501793\t \n",
      "Topic: 0.057*\"trump\" + 0.014*\"league\" + 0.014*\"country\" + 0.013*\"australias\" + 0.012*\"john\" + 0.012*\"election\" + 0.012*\"hobart\" + 0.011*\"star\" + 0.010*\"turn\" + 0.010*\"race\"\n",
      "\n",
      "\n",
      "Score: 0.016668548807501793\t \n",
      "Topic: 0.022*\"live\" + 0.014*\"week\" + 0.011*\"million\" + 0.011*\"test\" + 0.010*\"speak\" + 0.010*\"western\" + 0.010*\"womens\" + 0.010*\"senate\" + 0.009*\"right\" + 0.009*\"australia\"\n",
      "\n",
      "\n",
      "Score: 0.016668548807501793\t \n",
      "Topic: 0.029*\"donald\" + 0.015*\"drum\" + 0.013*\"children\" + 0.013*\"record\" + 0.012*\"street\" + 0.012*\"island\" + 0.011*\"rise\" + 0.009*\"quiz\" + 0.009*\"fall\" + 0.009*\"festival\"\n",
      "\n"
     ]
    }
   ],
   "source": [
    "for index, score in sorted(lda_tfidf[t], key = lambda x: -1*x[1]):\n",
    "    print(\"\\nScore: {}\\t \\nTopic: {}\\n\".format(score, lda_tfidf.print_topic(index, 10)))"
   ]
  },
  {
   "cell_type": "markdown",
   "metadata": {
    "slideshow": {
     "slide_type": "fragment"
    }
   },
   "source": [
    "Now, let's see how well this works for predictions on external news articles."
   ]
  },
  {
   "cell_type": "code",
   "execution_count": 112,
   "metadata": {
    "slideshow": {
     "slide_type": "subslide"
    }
   },
   "outputs": [
    {
     "name": "stdout",
     "output_type": "stream",
     "text": [
      "\n",
      "Score: 0.3000269830226898\t \n",
      "Topic: 0.022*\"turnbull\" + 0.018*\"tasmania\" + 0.018*\"miss\" + 0.017*\"show\" + 0.015*\"malcolm\" + 0.013*\"search\" + 0.012*\"world\" + 0.012*\"near\" + 0.011*\"body\" + 0.011*\"battle\"\n",
      "\n",
      "\n",
      "Score: 0.22453366219997406\t \n",
      "Topic: 0.029*\"donald\" + 0.015*\"drum\" + 0.013*\"children\" + 0.013*\"record\" + 0.012*\"street\" + 0.012*\"island\" + 0.011*\"rise\" + 0.009*\"quiz\" + 0.009*\"fall\" + 0.009*\"festival\"\n",
      "\n",
      "\n",
      "Score: 0.20738863945007324\t \n",
      "Topic: 0.027*\"government\" + 0.016*\"coast\" + 0.016*\"market\" + 0.015*\"tasmanian\" + 0.014*\"south\" + 0.012*\"west\" + 0.012*\"bank\" + 0.012*\"share\" + 0.011*\"gold\" + 0.011*\"christmas\"\n",
      "\n",
      "\n",
      "Score: 0.18231205642223358\t \n",
      "Topic: 0.020*\"marriage\" + 0.018*\"life\" + 0.017*\"child\" + 0.015*\"victoria\" + 0.013*\"abuse\" + 0.013*\"energy\" + 0.010*\"president\" + 0.010*\"kill\" + 0.010*\"sport\" + 0.010*\"drive\"\n",
      "\n",
      "\n",
      "Score: 0.014290641993284225\t \n",
      "Topic: 0.016*\"people\" + 0.014*\"power\" + 0.013*\"adelaide\" + 0.012*\"korea\" + 0.011*\"north\" + 0.010*\"park\" + 0.008*\"station\" + 0.008*\"farm\" + 0.008*\"premier\" + 0.008*\"protest\"\n",
      "\n",
      "\n",
      "Score: 0.014290457591414452\t \n",
      "Topic: 0.025*\"years\" + 0.017*\"break\" + 0.015*\"news\" + 0.015*\"city\" + 0.013*\"state\" + 0.013*\"mark\" + 0.012*\"announce\" + 0.011*\"citizenship\" + 0.011*\"come\" + 0.010*\"year\"\n",
      "\n",
      "\n",
      "Score: 0.014290367253124714\t \n",
      "Topic: 0.022*\"live\" + 0.014*\"week\" + 0.011*\"million\" + 0.011*\"test\" + 0.010*\"speak\" + 0.010*\"western\" + 0.010*\"womens\" + 0.010*\"senate\" + 0.009*\"right\" + 0.009*\"australia\"\n",
      "\n",
      "\n",
      "Score: 0.0142897330224514\t \n",
      "Topic: 0.035*\"queensland\" + 0.019*\"women\" + 0.014*\"young\" + 0.013*\"aboriginal\" + 0.012*\"mother\" + 0.012*\"parliament\" + 0.012*\"australians\" + 0.011*\"know\" + 0.010*\"play\" + 0.010*\"season\"\n",
      "\n",
      "\n",
      "Score: 0.014289421029388905\t \n",
      "Topic: 0.057*\"trump\" + 0.014*\"league\" + 0.014*\"country\" + 0.013*\"australias\" + 0.012*\"john\" + 0.012*\"election\" + 0.012*\"hobart\" + 0.011*\"star\" + 0.010*\"turn\" + 0.010*\"race\"\n",
      "\n",
      "\n",
      "Score: 0.014288009144365788\t \n",
      "Topic: 0.019*\"charge\" + 0.018*\"murder\" + 0.017*\"police\" + 0.015*\"court\" + 0.015*\"woman\" + 0.014*\"crash\" + 0.012*\"shoot\" + 0.012*\"death\" + 0.011*\"interview\" + 0.011*\"perth\"\n",
      "\n"
     ]
    }
   ],
   "source": [
    "unseen_news = \"Australia bushfires: New South Wales battles catastrophic conditions\"\n",
    "bow = dictionary.doc2bow(preprocess(unseen_news))\n",
    "\n",
    "for index, score in sorted(lda_tfidf[bow], key = lambda x: -1*x[1]):\n",
    "    print(\"\\nScore: {}\\t \\nTopic: {}\\n\".format(score, lda_tfidf.print_topic(index, 10)))"
   ]
  },
  {
   "cell_type": "code",
   "execution_count": 113,
   "metadata": {
    "slideshow": {
     "slide_type": "subslide"
    }
   },
   "outputs": [
    {
     "name": "stdout",
     "output_type": "stream",
     "text": [
      "\n",
      "Score: 0.26254862546920776\t \n",
      "Topic: 0.022*\"turnbull\" + 0.018*\"tasmania\" + 0.018*\"miss\" + 0.017*\"show\" + 0.015*\"malcolm\" + 0.013*\"search\" + 0.012*\"world\" + 0.012*\"near\" + 0.011*\"body\" + 0.011*\"battle\"\n",
      "\n",
      "\n",
      "Score: 0.13752812147140503\t \n",
      "Topic: 0.020*\"marriage\" + 0.018*\"life\" + 0.017*\"child\" + 0.015*\"victoria\" + 0.013*\"abuse\" + 0.013*\"energy\" + 0.010*\"president\" + 0.010*\"kill\" + 0.010*\"sport\" + 0.010*\"drive\"\n",
      "\n",
      "\n",
      "Score: 0.13750049471855164\t \n",
      "Topic: 0.035*\"queensland\" + 0.019*\"women\" + 0.014*\"young\" + 0.013*\"aboriginal\" + 0.012*\"mother\" + 0.012*\"parliament\" + 0.012*\"australians\" + 0.011*\"know\" + 0.010*\"play\" + 0.010*\"season\"\n",
      "\n",
      "\n",
      "Score: 0.13749490678310394\t \n",
      "Topic: 0.025*\"years\" + 0.017*\"break\" + 0.015*\"news\" + 0.015*\"city\" + 0.013*\"state\" + 0.013*\"mark\" + 0.012*\"announce\" + 0.011*\"citizenship\" + 0.011*\"come\" + 0.010*\"year\"\n",
      "\n",
      "\n",
      "Score: 0.13748350739479065\t \n",
      "Topic: 0.029*\"donald\" + 0.015*\"drum\" + 0.013*\"children\" + 0.013*\"record\" + 0.012*\"street\" + 0.012*\"island\" + 0.011*\"rise\" + 0.009*\"quiz\" + 0.009*\"fall\" + 0.009*\"festival\"\n",
      "\n",
      "\n",
      "Score: 0.13743074238300323\t \n",
      "Topic: 0.027*\"government\" + 0.016*\"coast\" + 0.016*\"market\" + 0.015*\"tasmanian\" + 0.014*\"south\" + 0.012*\"west\" + 0.012*\"bank\" + 0.012*\"share\" + 0.011*\"gold\" + 0.011*\"christmas\"\n",
      "\n",
      "\n",
      "Score: 0.012503397651016712\t \n",
      "Topic: 0.057*\"trump\" + 0.014*\"league\" + 0.014*\"country\" + 0.013*\"australias\" + 0.012*\"john\" + 0.012*\"election\" + 0.012*\"hobart\" + 0.011*\"star\" + 0.010*\"turn\" + 0.010*\"race\"\n",
      "\n",
      "\n",
      "Score: 0.012503397651016712\t \n",
      "Topic: 0.022*\"live\" + 0.014*\"week\" + 0.011*\"million\" + 0.011*\"test\" + 0.010*\"speak\" + 0.010*\"western\" + 0.010*\"womens\" + 0.010*\"senate\" + 0.009*\"right\" + 0.009*\"australia\"\n",
      "\n",
      "\n",
      "Score: 0.012503397651016712\t \n",
      "Topic: 0.019*\"charge\" + 0.018*\"murder\" + 0.017*\"police\" + 0.015*\"court\" + 0.015*\"woman\" + 0.014*\"crash\" + 0.012*\"shoot\" + 0.012*\"death\" + 0.011*\"interview\" + 0.011*\"perth\"\n",
      "\n",
      "\n",
      "Score: 0.012503397651016712\t \n",
      "Topic: 0.016*\"people\" + 0.014*\"power\" + 0.013*\"adelaide\" + 0.012*\"korea\" + 0.011*\"north\" + 0.010*\"park\" + 0.008*\"station\" + 0.008*\"farm\" + 0.008*\"premier\" + 0.008*\"protest\"\n",
      "\n"
     ]
    }
   ],
   "source": [
    "unseen_news = \"Scientists develop a new method for identifying potentially habitable planets that could host \\\n",
    "                ALIEN LIFE outside of our solar system\"\n",
    "bow = dictionary.doc2bow(preprocess(unseen_news))\n",
    "\n",
    "for index, score in sorted(lda_tfidf[bow], key = lambda x: -1*x[1]):\n",
    "    print(\"\\nScore: {}\\t \\nTopic: {}\\n\".format(score, lda_tfidf.print_topic(index, 10)))"
   ]
  },
  {
   "cell_type": "markdown",
   "metadata": {
    "slideshow": {
     "slide_type": "subslide"
    }
   },
   "source": [
    "How do these models work when the document length is large? Let's find out using a dataset for wine reviews."
   ]
  },
  {
   "cell_type": "markdown",
   "metadata": {
    "slideshow": {
     "slide_type": "slide"
    }
   },
   "source": [
    "## <a name = \"wine\"></a> Wine reviews - Topic modeling"
   ]
  },
  {
   "cell_type": "markdown",
   "metadata": {
    "slideshow": {
     "slide_type": "subslide"
    }
   },
   "source": [
    "This dataset has 118,840 wine reviews of different kinds of wine. Since wine reviews are usually quite verbose and the fact that the words used for description are quite frequent, it might be interesting what we find as the latent topics for these reviews. Let's dive in!"
   ]
  },
  {
   "cell_type": "code",
   "execution_count": 116,
   "metadata": {
    "slideshow": {
     "slide_type": "subslide"
    }
   },
   "outputs": [
    {
     "data": {
      "text/html": [
       "<div>\n",
       "<style scoped>\n",
       "    .dataframe tbody tr th:only-of-type {\n",
       "        vertical-align: middle;\n",
       "    }\n",
       "\n",
       "    .dataframe tbody tr th {\n",
       "        vertical-align: top;\n",
       "    }\n",
       "\n",
       "    .dataframe thead th {\n",
       "        text-align: right;\n",
       "    }\n",
       "</style>\n",
       "<table border=\"1\" class=\"dataframe\">\n",
       "  <thead>\n",
       "    <tr style=\"text-align: right;\">\n",
       "      <th></th>\n",
       "      <th>wine_id</th>\n",
       "      <th>title</th>\n",
       "      <th>description</th>\n",
       "      <th>designation</th>\n",
       "      <th>variety</th>\n",
       "      <th>points</th>\n",
       "      <th>price</th>\n",
       "    </tr>\n",
       "  </thead>\n",
       "  <tbody>\n",
       "    <tr>\n",
       "      <td>0</td>\n",
       "      <td>0</td>\n",
       "      <td>Nicosia 2013 Vulkà Bianco  (Etna)</td>\n",
       "      <td>Aromas include tropical fruit, broom, brimstone and dried herb. The palate isn't overly expressive, offering unripened apple, citrus and dried sage alongside brisk acidity.</td>\n",
       "      <td>Vulkà Bianco</td>\n",
       "      <td>White Blend</td>\n",
       "      <td>87</td>\n",
       "      <td>NaN</td>\n",
       "    </tr>\n",
       "    <tr>\n",
       "      <td>1</td>\n",
       "      <td>1</td>\n",
       "      <td>Quinta dos Avidagos 2011 Avidagos Red (Douro)</td>\n",
       "      <td>This is ripe and fruity, a wine that is smooth while still structured. Firm tannins are filled out with juicy red berry fruits and freshened with acidity. It's  already drinkable, although it will certainly be better from 2016.</td>\n",
       "      <td>Avidagos</td>\n",
       "      <td>Portuguese Red</td>\n",
       "      <td>87</td>\n",
       "      <td>15.0</td>\n",
       "    </tr>\n",
       "    <tr>\n",
       "      <td>2</td>\n",
       "      <td>2</td>\n",
       "      <td>Rainstorm 2013 Pinot Gris (Willamette Valley)</td>\n",
       "      <td>Tart and snappy, the flavors of lime flesh and rind dominate. Some green pineapple pokes through, with crisp acidity underscoring the flavors. The wine was all stainless-steel fermented.</td>\n",
       "      <td>NaN</td>\n",
       "      <td>Pinot Gris</td>\n",
       "      <td>87</td>\n",
       "      <td>14.0</td>\n",
       "    </tr>\n",
       "    <tr>\n",
       "      <td>3</td>\n",
       "      <td>3</td>\n",
       "      <td>St. Julian 2013 Reserve Late Harvest Riesling (Lake Michigan Shore)</td>\n",
       "      <td>Pineapple rind, lemon pith and orange blossom start off the aromas. The palate is a bit more opulent, with notes of honey-drizzled guava and mango giving way to a slightly astringent, semidry finish.</td>\n",
       "      <td>Reserve Late Harvest</td>\n",
       "      <td>Riesling</td>\n",
       "      <td>87</td>\n",
       "      <td>13.0</td>\n",
       "    </tr>\n",
       "    <tr>\n",
       "      <td>4</td>\n",
       "      <td>4</td>\n",
       "      <td>Sweet Cheeks 2012 Vintner's Reserve Wild Child Block Pinot Noir (Willamette Valley)</td>\n",
       "      <td>Much like the regular bottling from 2012, this comes across as rather rough and tannic, with rustic, earthy, herbal characteristics. Nonetheless, if you think of it as a pleasantly unfussy country wine, it's a good companion to a hearty winter stew.</td>\n",
       "      <td>Vintner's Reserve Wild Child Block</td>\n",
       "      <td>Pinot Noir</td>\n",
       "      <td>87</td>\n",
       "      <td>65.0</td>\n",
       "    </tr>\n",
       "    <tr>\n",
       "      <td>...</td>\n",
       "      <td>...</td>\n",
       "      <td>...</td>\n",
       "      <td>...</td>\n",
       "      <td>...</td>\n",
       "      <td>...</td>\n",
       "      <td>...</td>\n",
       "      <td>...</td>\n",
       "    </tr>\n",
       "    <tr>\n",
       "      <td>118835</td>\n",
       "      <td>129966</td>\n",
       "      <td>Dr. H. Thanisch (Erben Müller-Burggraef) 2013 Brauneberger Juffer-Sonnenuhr Spätlese Riesling (Mosel)</td>\n",
       "      <td>Notes of honeysuckle and cantaloupe sweeten this deliciously feather-light spätlese. It's intensely juicy, quenching the palate with streams of tart tangerine and grapefruit acidity, yet wraps up with a kiss of honey and peach.</td>\n",
       "      <td>Brauneberger Juffer-Sonnenuhr Spätlese</td>\n",
       "      <td>Riesling</td>\n",
       "      <td>90</td>\n",
       "      <td>28.0</td>\n",
       "    </tr>\n",
       "    <tr>\n",
       "      <td>118836</td>\n",
       "      <td>129967</td>\n",
       "      <td>Citation 2004 Pinot Noir (Oregon)</td>\n",
       "      <td>Citation is given as much as a decade of bottle age prior to release, which means it is pre-cellared and drinking at its peak. Baked cherry, cocoa and coconut flavors combine gracefully, with soft, secondary fruit compote highlights.</td>\n",
       "      <td>NaN</td>\n",
       "      <td>Pinot Noir</td>\n",
       "      <td>90</td>\n",
       "      <td>75.0</td>\n",
       "    </tr>\n",
       "    <tr>\n",
       "      <td>118837</td>\n",
       "      <td>129968</td>\n",
       "      <td>Domaine Gresser 2013 Kritt Gewurztraminer (Alsace)</td>\n",
       "      <td>Well-drained gravel soil gives this wine its crisp and dry character. It is ripe and fruity, although the spice is subdued in favor of a more serious structure. This is a wine to age for a couple of years, so drink from 2017.</td>\n",
       "      <td>Kritt</td>\n",
       "      <td>Gewürztraminer</td>\n",
       "      <td>90</td>\n",
       "      <td>30.0</td>\n",
       "    </tr>\n",
       "    <tr>\n",
       "      <td>118838</td>\n",
       "      <td>129969</td>\n",
       "      <td>Domaine Marcel Deiss 2012 Pinot Gris (Alsace)</td>\n",
       "      <td>A dry style of Pinot Gris, this is crisp with some acidity. It also has weight and a solid, powerful core of spice and baked apple flavors. With its structure still developing, the wine needs to age. Drink from 2015.</td>\n",
       "      <td>NaN</td>\n",
       "      <td>Pinot Gris</td>\n",
       "      <td>90</td>\n",
       "      <td>32.0</td>\n",
       "    </tr>\n",
       "    <tr>\n",
       "      <td>118839</td>\n",
       "      <td>129970</td>\n",
       "      <td>Domaine Schoffit 2012 Lieu-dit Harth Cuvée Caroline Gewurztraminer (Alsace)</td>\n",
       "      <td>Big, rich and off-dry, this is powered by intense spiciness and rounded texture. Lychees dominate the fruit profile, giving an opulent feel to the aftertaste. Drink now.</td>\n",
       "      <td>Lieu-dit Harth Cuvée Caroline</td>\n",
       "      <td>Gewürztraminer</td>\n",
       "      <td>90</td>\n",
       "      <td>21.0</td>\n",
       "    </tr>\n",
       "  </tbody>\n",
       "</table>\n",
       "<p>118840 rows × 7 columns</p>\n",
       "</div>"
      ],
      "text/plain": [
       "        wine_id  \\\n",
       "0       0         \n",
       "1       1         \n",
       "2       2         \n",
       "3       3         \n",
       "4       4         \n",
       "...    ..         \n",
       "118835  129966    \n",
       "118836  129967    \n",
       "118837  129968    \n",
       "118838  129969    \n",
       "118839  129970    \n",
       "\n",
       "                                                                                                        title  \\\n",
       "0       Nicosia 2013 Vulkà Bianco  (Etna)                                                                       \n",
       "1       Quinta dos Avidagos 2011 Avidagos Red (Douro)                                                           \n",
       "2       Rainstorm 2013 Pinot Gris (Willamette Valley)                                                           \n",
       "3       St. Julian 2013 Reserve Late Harvest Riesling (Lake Michigan Shore)                                     \n",
       "4       Sweet Cheeks 2012 Vintner's Reserve Wild Child Block Pinot Noir (Willamette Valley)                     \n",
       "...                                                                                     ...                     \n",
       "118835  Dr. H. Thanisch (Erben Müller-Burggraef) 2013 Brauneberger Juffer-Sonnenuhr Spätlese Riesling (Mosel)   \n",
       "118836  Citation 2004 Pinot Noir (Oregon)                                                                       \n",
       "118837  Domaine Gresser 2013 Kritt Gewurztraminer (Alsace)                                                      \n",
       "118838  Domaine Marcel Deiss 2012 Pinot Gris (Alsace)                                                           \n",
       "118839  Domaine Schoffit 2012 Lieu-dit Harth Cuvée Caroline Gewurztraminer (Alsace)                             \n",
       "\n",
       "                                                                                                                                                                                                                                                      description  \\\n",
       "0       Aromas include tropical fruit, broom, brimstone and dried herb. The palate isn't overly expressive, offering unripened apple, citrus and dried sage alongside brisk acidity.                                                                                \n",
       "1       This is ripe and fruity, a wine that is smooth while still structured. Firm tannins are filled out with juicy red berry fruits and freshened with acidity. It's  already drinkable, although it will certainly be better from 2016.                         \n",
       "2       Tart and snappy, the flavors of lime flesh and rind dominate. Some green pineapple pokes through, with crisp acidity underscoring the flavors. The wine was all stainless-steel fermented.                                                                  \n",
       "3       Pineapple rind, lemon pith and orange blossom start off the aromas. The palate is a bit more opulent, with notes of honey-drizzled guava and mango giving way to a slightly astringent, semidry finish.                                                     \n",
       "4       Much like the regular bottling from 2012, this comes across as rather rough and tannic, with rustic, earthy, herbal characteristics. Nonetheless, if you think of it as a pleasantly unfussy country wine, it's a good companion to a hearty winter stew.   \n",
       "...                                                                                                                                                                                                                                                           ...   \n",
       "118835  Notes of honeysuckle and cantaloupe sweeten this deliciously feather-light spätlese. It's intensely juicy, quenching the palate with streams of tart tangerine and grapefruit acidity, yet wraps up with a kiss of honey and peach.                         \n",
       "118836  Citation is given as much as a decade of bottle age prior to release, which means it is pre-cellared and drinking at its peak. Baked cherry, cocoa and coconut flavors combine gracefully, with soft, secondary fruit compote highlights.                   \n",
       "118837  Well-drained gravel soil gives this wine its crisp and dry character. It is ripe and fruity, although the spice is subdued in favor of a more serious structure. This is a wine to age for a couple of years, so drink from 2017.                           \n",
       "118838  A dry style of Pinot Gris, this is crisp with some acidity. It also has weight and a solid, powerful core of spice and baked apple flavors. With its structure still developing, the wine needs to age. Drink from 2015.                                    \n",
       "118839  Big, rich and off-dry, this is powered by intense spiciness and rounded texture. Lychees dominate the fruit profile, giving an opulent feel to the aftertaste. Drink now.                                                                                   \n",
       "\n",
       "                                   designation         variety  points  price  \n",
       "0       Vulkà Bianco                            White Blend     87     NaN     \n",
       "1       Avidagos                                Portuguese Red  87      15.0   \n",
       "2       NaN                                     Pinot Gris      87      14.0   \n",
       "3       Reserve Late Harvest                    Riesling        87      13.0   \n",
       "4       Vintner's Reserve Wild Child Block      Pinot Noir      87      65.0   \n",
       "...                                    ...             ...      ..       ...   \n",
       "118835  Brauneberger Juffer-Sonnenuhr Spätlese  Riesling        90      28.0   \n",
       "118836  NaN                                     Pinot Noir      90      75.0   \n",
       "118837  Kritt                                   Gewürztraminer  90      30.0   \n",
       "118838  NaN                                     Pinot Gris      90      32.0   \n",
       "118839  Lieu-dit Harth Cuvée Caroline           Gewürztraminer  90      21.0   \n",
       "\n",
       "[118840 rows x 7 columns]"
      ]
     },
     "execution_count": 116,
     "metadata": {},
     "output_type": "execute_result"
    }
   ],
   "source": [
    "# loading the data set\n",
    "wines = pd.read_csv(\"wines.csv\")\n",
    "wines"
   ]
  },
  {
   "cell_type": "code",
   "execution_count": 117,
   "metadata": {
    "slideshow": {
     "slide_type": "subslide"
    }
   },
   "outputs": [
    {
     "data": {
      "text/html": [
       "<div>\n",
       "<style scoped>\n",
       "    .dataframe tbody tr th:only-of-type {\n",
       "        vertical-align: middle;\n",
       "    }\n",
       "\n",
       "    .dataframe tbody tr th {\n",
       "        vertical-align: top;\n",
       "    }\n",
       "\n",
       "    .dataframe thead th {\n",
       "        text-align: right;\n",
       "    }\n",
       "</style>\n",
       "<table border=\"1\" class=\"dataframe\">\n",
       "  <thead>\n",
       "    <tr style=\"text-align: right;\">\n",
       "      <th></th>\n",
       "      <th>description</th>\n",
       "      <th>index</th>\n",
       "    </tr>\n",
       "  </thead>\n",
       "  <tbody>\n",
       "    <tr>\n",
       "      <td>0</td>\n",
       "      <td>Aromas include tropical fruit, broom, brimstone and dried herb. The palate isn't overly expressive, offering unripened apple, citrus and dried sage alongside brisk acidity.</td>\n",
       "      <td>0</td>\n",
       "    </tr>\n",
       "    <tr>\n",
       "      <td>1</td>\n",
       "      <td>This is ripe and fruity, a wine that is smooth while still structured. Firm tannins are filled out with juicy red berry fruits and freshened with acidity. It's  already drinkable, although it will certainly be better from 2016.</td>\n",
       "      <td>1</td>\n",
       "    </tr>\n",
       "    <tr>\n",
       "      <td>2</td>\n",
       "      <td>Tart and snappy, the flavors of lime flesh and rind dominate. Some green pineapple pokes through, with crisp acidity underscoring the flavors. The wine was all stainless-steel fermented.</td>\n",
       "      <td>2</td>\n",
       "    </tr>\n",
       "    <tr>\n",
       "      <td>3</td>\n",
       "      <td>Pineapple rind, lemon pith and orange blossom start off the aromas. The palate is a bit more opulent, with notes of honey-drizzled guava and mango giving way to a slightly astringent, semidry finish.</td>\n",
       "      <td>3</td>\n",
       "    </tr>\n",
       "    <tr>\n",
       "      <td>4</td>\n",
       "      <td>Much like the regular bottling from 2012, this comes across as rather rough and tannic, with rustic, earthy, herbal characteristics. Nonetheless, if you think of it as a pleasantly unfussy country wine, it's a good companion to a hearty winter stew.</td>\n",
       "      <td>4</td>\n",
       "    </tr>\n",
       "    <tr>\n",
       "      <td>...</td>\n",
       "      <td>...</td>\n",
       "      <td>...</td>\n",
       "    </tr>\n",
       "    <tr>\n",
       "      <td>118835</td>\n",
       "      <td>Notes of honeysuckle and cantaloupe sweeten this deliciously feather-light spätlese. It's intensely juicy, quenching the palate with streams of tart tangerine and grapefruit acidity, yet wraps up with a kiss of honey and peach.</td>\n",
       "      <td>118835</td>\n",
       "    </tr>\n",
       "    <tr>\n",
       "      <td>118836</td>\n",
       "      <td>Citation is given as much as a decade of bottle age prior to release, which means it is pre-cellared and drinking at its peak. Baked cherry, cocoa and coconut flavors combine gracefully, with soft, secondary fruit compote highlights.</td>\n",
       "      <td>118836</td>\n",
       "    </tr>\n",
       "    <tr>\n",
       "      <td>118837</td>\n",
       "      <td>Well-drained gravel soil gives this wine its crisp and dry character. It is ripe and fruity, although the spice is subdued in favor of a more serious structure. This is a wine to age for a couple of years, so drink from 2017.</td>\n",
       "      <td>118837</td>\n",
       "    </tr>\n",
       "    <tr>\n",
       "      <td>118838</td>\n",
       "      <td>A dry style of Pinot Gris, this is crisp with some acidity. It also has weight and a solid, powerful core of spice and baked apple flavors. With its structure still developing, the wine needs to age. Drink from 2015.</td>\n",
       "      <td>118838</td>\n",
       "    </tr>\n",
       "    <tr>\n",
       "      <td>118839</td>\n",
       "      <td>Big, rich and off-dry, this is powered by intense spiciness and rounded texture. Lychees dominate the fruit profile, giving an opulent feel to the aftertaste. Drink now.</td>\n",
       "      <td>118839</td>\n",
       "    </tr>\n",
       "  </tbody>\n",
       "</table>\n",
       "<p>118840 rows × 2 columns</p>\n",
       "</div>"
      ],
      "text/plain": [
       "                                                                                                                                                                                                                                                      description  \\\n",
       "0       Aromas include tropical fruit, broom, brimstone and dried herb. The palate isn't overly expressive, offering unripened apple, citrus and dried sage alongside brisk acidity.                                                                                \n",
       "1       This is ripe and fruity, a wine that is smooth while still structured. Firm tannins are filled out with juicy red berry fruits and freshened with acidity. It's  already drinkable, although it will certainly be better from 2016.                         \n",
       "2       Tart and snappy, the flavors of lime flesh and rind dominate. Some green pineapple pokes through, with crisp acidity underscoring the flavors. The wine was all stainless-steel fermented.                                                                  \n",
       "3       Pineapple rind, lemon pith and orange blossom start off the aromas. The palate is a bit more opulent, with notes of honey-drizzled guava and mango giving way to a slightly astringent, semidry finish.                                                     \n",
       "4       Much like the regular bottling from 2012, this comes across as rather rough and tannic, with rustic, earthy, herbal characteristics. Nonetheless, if you think of it as a pleasantly unfussy country wine, it's a good companion to a hearty winter stew.   \n",
       "...                                                                                                                                                                                                                                                           ...   \n",
       "118835  Notes of honeysuckle and cantaloupe sweeten this deliciously feather-light spätlese. It's intensely juicy, quenching the palate with streams of tart tangerine and grapefruit acidity, yet wraps up with a kiss of honey and peach.                         \n",
       "118836  Citation is given as much as a decade of bottle age prior to release, which means it is pre-cellared and drinking at its peak. Baked cherry, cocoa and coconut flavors combine gracefully, with soft, secondary fruit compote highlights.                   \n",
       "118837  Well-drained gravel soil gives this wine its crisp and dry character. It is ripe and fruity, although the spice is subdued in favor of a more serious structure. This is a wine to age for a couple of years, so drink from 2017.                           \n",
       "118838  A dry style of Pinot Gris, this is crisp with some acidity. It also has weight and a solid, powerful core of spice and baked apple flavors. With its structure still developing, the wine needs to age. Drink from 2015.                                    \n",
       "118839  Big, rich and off-dry, this is powered by intense spiciness and rounded texture. Lychees dominate the fruit profile, giving an opulent feel to the aftertaste. Drink now.                                                                                   \n",
       "\n",
       "         index  \n",
       "0       0       \n",
       "1       1       \n",
       "2       2       \n",
       "3       3       \n",
       "4       4       \n",
       "...    ..       \n",
       "118835  118835  \n",
       "118836  118836  \n",
       "118837  118837  \n",
       "118838  118838  \n",
       "118839  118839  \n",
       "\n",
       "[118840 rows x 2 columns]"
      ]
     },
     "execution_count": 117,
     "metadata": {},
     "output_type": "execute_result"
    }
   ],
   "source": [
    "# all columns except description could be dropped\n",
    "wines = pd.DataFrame(wines['description'])\n",
    "wines['index'] = wines.index\n",
    "wines"
   ]
  },
  {
   "cell_type": "code",
   "execution_count": 119,
   "metadata": {
    "slideshow": {
     "slide_type": "subslide"
    }
   },
   "outputs": [
    {
     "data": {
      "text/plain": [
       "1000    [nerello, mascalese, grape, native, volcanic, slop, mount, etna, deliver, fresh, berry, note, recall, raspberry, blueberry, mulberry, back, toast, almond, pretty, mineral, nuances, weave, texture, wine, polish, tannins, menthol, freshness, months, hardly, taste, wood]        \n",
       "1001    [aromas, cherry, spice, mint, lead, tart, cherry, wild, berry, fruit, dust, cocoa, spice, months, french, barrel, unusual, high, pinots, seal, screwcap]                                                                                                                            \n",
       "1002    [richness, vintage, show, wine, layer, fruit, sweet, tannins, dense, concentration, licorice, flavor, arrive, wine, mature]                                                                                                                                                         \n",
       "1003    [firm, white, wine, give, good, green, fruit, pear, flavor, lift, spice, wood, wine, round, retain, crispness, grassy, acidity, offer, good, depth, plum, skin, structure, flavor]                                                                                                  \n",
       "1004    [soft, sauvignon, close, sancerre, light, yeasty, character, young, wine, fruit, fresh, pink, grapefruit, lime, green, berry, finish, acidic, crisp, mouth, fill]                                                                                                                   \n",
       "1005    [bold, expressive, pinot, noir, burst, open, spice, herb, leaf, roll, flavor, vanilla, cream, tangy, fruit, spicy, elements, wrap, flavor, give, lift, life, excite, wine, necessarily, cellar]                                                                                     \n",
       "1006    [concentrate, white, fruit, strong, streak, herbaceousness, green, apples, rich, texture, wine, show, intensity, youth, need, year, drink]                                                                                                                                          \n",
       "1007    [intense, focus, good, value, coonawarra, open, note, leather, polish, wood, overlay, berry, fruit, tannins, smooth, plenty, smack, acidity, cherry, cordial, plum, fruit, flavor, lively, drink, import, freixenet]                                                                \n",
       "1008    [denser, herbal, gran, reserva, fresh, cassis, plum, fruit, chocolaty, overtones, plenty, intensity, structure]                                                                                                                                                                     \n",
       "1009    [interest, wine, different, flavor, thread, interweave, begin, surplus, acid, leave, chalky, sensation, smooth, fruit, flavor, sharp, tart, fruit, wild, berry, pomegranate, sour, cherry, aromas, suggest, light, chocolate, barrel, show, finish, herb, vanilla, come, harmonious]\n",
       "1010    [unusually, fruity, pinot, gris, burst, quince, lanolin, aromas, intense, palate, good, weight, slightly, astringent, mouthwatering, finish, provide, good, foil, calamari]                                                                                                         \n",
       "1011    [ruby, blend, nerello, mascalese, nerello, cappuccio, convey, aromas, bright, berry, intense, mint, whiff, bake, spice, vibrant, palate, offer, sour, cherry, mineral, cinnamon, flavor, alongside, fresh, acidity]                                                                 \n",
       "1012    [aromas, suggest, vanilla, bell, pepper, cassis, palate, offer, black, cherry, cranberry, vanilla, mocha, alongside, astringent, tannins]                                                                                                                                           \n",
       "1013    [blend, newer, westside, paso, winery, offer, blackberry, char, pine, sour, cherry, aromas, palate, drive, pine, char, game, sharp, herbs, oregano, rosemary, great, spice, steak, dinner]                                                                                          \n",
       "1014    [nice, tarry, funk, mint, menthol, cigarette, scent, characterize, nose, blend, cabernet, sauvignon, syrah, petite, verdot, creosote, sense, carry, palate, meet, black, cherry, bouquet, garni, grippy, tannins]                                                                   \n",
       "1015    [aromas, ripe, dark, berry, blue, flower, hint, bake, spice, waft, glass, palate, note, graphite, licorice, touch, smoke, depth, ripe, black, cherry, flavor, firm, tannins, provide, support]                                                                                      \n",
       "1016    [citrus, yellow, apple, orange, blossom, saline, aromas, center, stage, palate, note, savory, herb, accent, creamy, apple, pear, flavor, brighten, fresh, acidity, mineral, note]                                                                                                   \n",
       "1017    [wine, young, show, spice, fruit, right, weight, potential, richness, concentration, vines, drink, ageworthy, wine]                                                                                                                                                                 \n",
       "1018    [estate, bottle, assemblage, cabernet, sauvignon, cabernet, franc, petit, verdot, open, flurry, coconut, flake, herb, follow, ripe, rich, layer, dark, berry, black, wine, power, possess, elegance, stand, finish, taste, dark, caramel]                                           \n",
       "1019    [creamy, fresh, estate, grow, grapes, ferment, stainless, steel, neutral, barrel, fruit, flavor, blend, jicama, melon, pear, touch, sweetness, finish, hint, honeysuckle]                                                                                                           \n",
       "Name: description, dtype: object"
      ]
     },
     "execution_count": 119,
     "metadata": {},
     "output_type": "execute_result"
    }
   ],
   "source": [
    "# pre-processing the data\n",
    "\n",
    "processed_wines = wines['description'].map(preprocess)\n",
    "processed_wines[1000:1020]"
   ]
  },
  {
   "cell_type": "code",
   "execution_count": 129,
   "metadata": {
    "slideshow": {
     "slide_type": "fragment"
    }
   },
   "outputs": [
    {
     "data": {
      "text/plain": [
       "24351"
      ]
     },
     "execution_count": 129,
     "metadata": {},
     "output_type": "execute_result"
    }
   ],
   "source": [
    "# creating a dictionary\n",
    "wine_dict = Dictionary(processed_wines)\n",
    "len(wine_dict)"
   ]
  },
  {
   "cell_type": "code",
   "execution_count": 125,
   "metadata": {
    "slideshow": {
     "slide_type": "subslide"
    }
   },
   "outputs": [
    {
     "data": {
      "text/html": [
       "<div>\n",
       "<style scoped>\n",
       "    .dataframe tbody tr th:only-of-type {\n",
       "        vertical-align: middle;\n",
       "    }\n",
       "\n",
       "    .dataframe tbody tr th {\n",
       "        vertical-align: top;\n",
       "    }\n",
       "\n",
       "    .dataframe thead th {\n",
       "        text-align: right;\n",
       "    }\n",
       "</style>\n",
       "<table border=\"1\" class=\"dataframe\">\n",
       "  <thead>\n",
       "    <tr style=\"text-align: right;\">\n",
       "      <th></th>\n",
       "      <th>number of documents</th>\n",
       "      <th>word</th>\n",
       "    </tr>\n",
       "  </thead>\n",
       "  <tbody>\n",
       "    <tr>\n",
       "      <td>35</td>\n",
       "      <td>59857</td>\n",
       "      <td>flavor</td>\n",
       "    </tr>\n",
       "    <tr>\n",
       "      <td>31</td>\n",
       "      <td>59119</td>\n",
       "      <td>wine</td>\n",
       "    </tr>\n",
       "    <tr>\n",
       "      <td>9</td>\n",
       "      <td>50818</td>\n",
       "      <td>fruit</td>\n",
       "    </tr>\n",
       "    <tr>\n",
       "      <td>50</td>\n",
       "      <td>36599</td>\n",
       "      <td>finish</td>\n",
       "    </tr>\n",
       "    <tr>\n",
       "      <td>3</td>\n",
       "      <td>35607</td>\n",
       "      <td>aromas</td>\n",
       "    </tr>\n",
       "    <tr>\n",
       "      <td>14</td>\n",
       "      <td>34178</td>\n",
       "      <td>palate</td>\n",
       "    </tr>\n",
       "    <tr>\n",
       "      <td>0</td>\n",
       "      <td>30909</td>\n",
       "      <td>acidity</td>\n",
       "    </tr>\n",
       "    <tr>\n",
       "      <td>125</td>\n",
       "      <td>30675</td>\n",
       "      <td>drink</td>\n",
       "    </tr>\n",
       "    <tr>\n",
       "      <td>30</td>\n",
       "      <td>27464</td>\n",
       "      <td>tannins</td>\n",
       "    </tr>\n",
       "    <tr>\n",
       "      <td>156</td>\n",
       "      <td>25120</td>\n",
       "      <td>cherry</td>\n",
       "    </tr>\n",
       "    <tr>\n",
       "      <td>27</td>\n",
       "      <td>23327</td>\n",
       "      <td>ripe</td>\n",
       "    </tr>\n",
       "    <tr>\n",
       "      <td>154</td>\n",
       "      <td>22428</td>\n",
       "      <td>black</td>\n",
       "    </tr>\n",
       "    <tr>\n",
       "      <td>56</td>\n",
       "      <td>21299</td>\n",
       "      <td>note</td>\n",
       "    </tr>\n",
       "    <tr>\n",
       "      <td>114</td>\n",
       "      <td>20454</td>\n",
       "      <td>spice</td>\n",
       "    </tr>\n",
       "    <tr>\n",
       "      <td>18</td>\n",
       "      <td>16247</td>\n",
       "      <td>berry</td>\n",
       "    </tr>\n",
       "  </tbody>\n",
       "</table>\n",
       "</div>"
      ],
      "text/plain": [
       "     number of documents     word\n",
       "35   59857                flavor \n",
       "31   59119                wine   \n",
       "9    50818                fruit  \n",
       "50   36599                finish \n",
       "3    35607                aromas \n",
       "14   34178                palate \n",
       "0    30909                acidity\n",
       "125  30675                drink  \n",
       "30   27464                tannins\n",
       "156  25120                cherry \n",
       "27   23327                ripe   \n",
       "154  22428                black  \n",
       "56   21299                note   \n",
       "114  20454                spice  \n",
       "18   16247                berry  "
      ]
     },
     "execution_count": 125,
     "metadata": {},
     "output_type": "execute_result"
    }
   ],
   "source": [
    "words_in_reviews = pd.DataFrame.from_dict(wine_dict.dfs, orient = 'index', columns = [\"number of documents\"])\n",
    "words_in_reviews.sort_values(\"number of documents\", ascending = False, inplace = True)\n",
    "\n",
    "list2 = words_in_reviews.index\n",
    "\n",
    "freq = {}\n",
    "for i in list2:\n",
    "    freq[wine_dict[i]] = words_in_reviews['number of documents'][i]\n",
    "\n",
    "words_in_reviews['word'] = freq.keys()\n",
    "\n",
    "words_in_reviews[0:15]"
   ]
  },
  {
   "cell_type": "code",
   "execution_count": 131,
   "metadata": {
    "slideshow": {
     "slide_type": "subslide"
    }
   },
   "outputs": [
    {
     "data": {
      "text/plain": [
       "2986"
      ]
     },
     "execution_count": 131,
     "metadata": {},
     "output_type": "execute_result"
    }
   ],
   "source": [
    "# filtering out extremes\n",
    "\n",
    "wine_dict.filter_extremes(50, 0.5)\n",
    "len(wine_dict)"
   ]
  },
  {
   "cell_type": "code",
   "execution_count": 135,
   "metadata": {
    "slideshow": {
     "slide_type": "subslide"
    }
   },
   "outputs": [],
   "source": [
    "# bag-of-words for wine reviews\n",
    "bow_wines = [wine_dict.doc2bow(review) for review in processed_wines]\n",
    "\n",
    "# tfidf for wine reviews\n",
    "tfidf_wines = models.TfidfModel(bow_wines)\n",
    "corpus_wines = tfidf_wines[bow_wines]"
   ]
  },
  {
   "cell_type": "code",
   "execution_count": 137,
   "metadata": {
    "slideshow": {
     "slide_type": "subslide"
    }
   },
   "outputs": [],
   "source": [
    "# lda model with bag of words approach\n",
    "lda_wine_bow = models.LdaMulticore(bow_wines, num_topics=10, id2word=wine_dict, passes=1, workers=1)"
   ]
  },
  {
   "cell_type": "code",
   "execution_count": 138,
   "metadata": {
    "slideshow": {
     "slide_type": "fragment"
    }
   },
   "outputs": [],
   "source": [
    "# lda model with tfidf approach\n",
    "lda_wine_tfidf = models.LdaMulticore(corpus_wines, num_topics=10, id2word=wine_dict, passes=1, workers=1)"
   ]
  },
  {
   "cell_type": "markdown",
   "metadata": {
    "slideshow": {
     "slide_type": "subslide"
    }
   },
   "source": [
    "Let's examine the topics we get from each of the models:"
   ]
  },
  {
   "cell_type": "code",
   "execution_count": 139,
   "metadata": {
    "slideshow": {
     "slide_type": "fragment"
    }
   },
   "outputs": [
    {
     "name": "stdout",
     "output_type": "stream",
     "text": [
      "LDA with bow\n",
      "\n",
      "Topic: 0 \n",
      "Words: 0.024*\"fruit\" + 0.023*\"black\" + 0.018*\"nose\" + 0.018*\"palate\" + 0.017*\"wine\" + 0.015*\"bottle\" + 0.014*\"cherry\" + 0.014*\"vineyard\" + 0.011*\"finish\" + 0.010*\"show\"\n",
      "\n",
      "Topic: 1 \n",
      "Words: 0.083*\"wine\" + 0.045*\"acidity\" + 0.043*\"fruit\" + 0.040*\"drink\" + 0.029*\"ripe\" + 0.021*\"fruity\" + 0.019*\"texture\" + 0.019*\"character\" + 0.019*\"crisp\" + 0.016*\"rich\"\n",
      "\n",
      "Topic: 2 \n",
      "Words: 0.029*\"pinot\" + 0.027*\"wine\" + 0.026*\"cherry\" + 0.020*\"drink\" + 0.017*\"sweet\" + 0.016*\"noir\" + 0.016*\"good\" + 0.015*\"cherries\" + 0.012*\"like\" + 0.012*\"soft\"\n",
      "\n",
      "Topic: 3 \n",
      "Words: 0.040*\"finish\" + 0.030*\"palate\" + 0.024*\"note\" + 0.017*\"body\" + 0.016*\"fruit\" + 0.016*\"nose\" + 0.013*\"aromas\" + 0.012*\"medium\" + 0.012*\"fresh\" + 0.012*\"apple\"\n",
      "\n",
      "Topic: 4 \n",
      "Words: 0.037*\"palate\" + 0.037*\"cherry\" + 0.036*\"tannins\" + 0.033*\"aromas\" + 0.032*\"black\" + 0.020*\"offer\" + 0.018*\"spice\" + 0.018*\"berry\" + 0.017*\"drink\" + 0.017*\"alongside\"\n",
      "\n",
      "Topic: 5 \n",
      "Words: 0.049*\"aromas\" + 0.047*\"finish\" + 0.031*\"palate\" + 0.030*\"berry\" + 0.026*\"plum\" + 0.024*\"fruit\" + 0.023*\"feel\" + 0.021*\"note\" + 0.016*\"herbal\" + 0.011*\"spice\"\n",
      "\n",
      "Topic: 6 \n",
      "Words: 0.051*\"cabernet\" + 0.044*\"blend\" + 0.029*\"sauvignon\" + 0.028*\"merlot\" + 0.019*\"wine\" + 0.019*\"syrah\" + 0.018*\"fruit\" + 0.015*\"black\" + 0.014*\"blackberry\" + 0.014*\"franc\"\n",
      "\n",
      "Topic: 7 \n",
      "Words: 0.036*\"wine\" + 0.027*\"fruit\" + 0.024*\"aromas\" + 0.020*\"spice\" + 0.018*\"cherry\" + 0.017*\"finish\" + 0.014*\"chocolate\" + 0.014*\"sweet\" + 0.013*\"blackberry\" + 0.012*\"dark\"\n",
      "\n",
      "Topic: 8 \n",
      "Words: 0.023*\"apple\" + 0.023*\"white\" + 0.021*\"wine\" + 0.021*\"acidity\" + 0.019*\"fruit\" + 0.019*\"lemon\" + 0.018*\"peach\" + 0.018*\"citrus\" + 0.016*\"crisp\" + 0.014*\"pear\"\n",
      "\n",
      "Topic: 9 \n",
      "Words: 0.072*\"wine\" + 0.053*\"fruit\" + 0.042*\"tannins\" + 0.029*\"structure\" + 0.026*\"black\" + 0.025*\"drink\" + 0.022*\"ripe\" + 0.021*\"firm\" + 0.019*\"rich\" + 0.018*\"years\"\n",
      "\n",
      "\n",
      "\n",
      "LDA with tfidf\n",
      "\n",
      "Topic: 0 \n",
      "Words: 0.015*\"crisp\" + 0.012*\"acidity\" + 0.011*\"wine\" + 0.010*\"fruity\" + 0.009*\"texture\" + 0.009*\"fresh\" + 0.009*\"citrus\" + 0.009*\"drink\" + 0.009*\"light\" + 0.008*\"apple\"\n",
      "\n",
      "Topic: 1 \n",
      "Words: 0.010*\"plum\" + 0.009*\"berry\" + 0.009*\"black\" + 0.008*\"finish\" + 0.008*\"blackberry\" + 0.008*\"herbal\" + 0.008*\"aromas\" + 0.007*\"palate\" + 0.007*\"nose\" + 0.006*\"cherry\"\n",
      "\n",
      "Topic: 2 \n",
      "Words: 0.016*\"pinot\" + 0.011*\"noir\" + 0.007*\"cola\" + 0.007*\"silky\" + 0.007*\"cherry\" + 0.006*\"cherries\" + 0.006*\"good\" + 0.006*\"vineyard\" + 0.005*\"price\" + 0.005*\"show\"\n",
      "\n",
      "Topic: 3 \n",
      "Words: 0.013*\"palate\" + 0.012*\"alongside\" + 0.011*\"offer\" + 0.010*\"aromas\" + 0.010*\"cherry\" + 0.010*\"white\" + 0.008*\"flower\" + 0.008*\"whiff\" + 0.008*\"berry\" + 0.008*\"tannins\"\n",
      "\n",
      "Topic: 4 \n",
      "Words: 0.010*\"sweet\" + 0.008*\"like\" + 0.008*\"alcohol\" + 0.008*\"blackberry\" + 0.007*\"blend\" + 0.007*\"soft\" + 0.007*\"taste\" + 0.006*\"cherry\" + 0.006*\"syrah\" + 0.006*\"chocolate\"\n",
      "\n",
      "Topic: 5 \n",
      "Words: 0.012*\"cabernet\" + 0.011*\"black\" + 0.010*\"cherry\" + 0.008*\"tannins\" + 0.008*\"merlot\" + 0.008*\"spice\" + 0.008*\"blend\" + 0.008*\"sauvignon\" + 0.007*\"dark\" + 0.007*\"aromas\"\n",
      "\n",
      "Topic: 6 \n",
      "Words: 0.019*\"wine\" + 0.016*\"structure\" + 0.016*\"fruit\" + 0.016*\"wood\" + 0.016*\"drink\" + 0.015*\"ripe\" + 0.015*\"tannins\" + 0.014*\"acidity\" + 0.013*\"rich\" + 0.012*\"character\"\n",
      "\n",
      "Topic: 7 \n",
      "Words: 0.013*\"feel\" + 0.012*\"finish\" + 0.011*\"aromas\" + 0.010*\"green\" + 0.008*\"palate\" + 0.008*\"taste\" + 0.007*\"citrus\" + 0.007*\"note\" + 0.007*\"apple\" + 0.006*\"slightly\"\n",
      "\n",
      "Topic: 8 \n",
      "Words: 0.008*\"water\" + 0.006*\"angular\" + 0.006*\"fore\" + 0.006*\"proper\" + 0.005*\"unwind\" + 0.005*\"lade\" + 0.005*\"bubbly\" + 0.005*\"cedary\" + 0.005*\"meringue\" + 0.005*\"score\"\n",
      "\n",
      "Topic: 9 \n",
      "Words: 0.011*\"peach\" + 0.010*\"apple\" + 0.010*\"lemon\" + 0.010*\"pear\" + 0.009*\"citrus\" + 0.009*\"lime\" + 0.008*\"pineapple\" + 0.008*\"white\" + 0.008*\"honey\" + 0.008*\"chardonnay\"\n",
      "\n"
     ]
    }
   ],
   "source": [
    "# LDA with bow\n",
    "print(\"LDA with bow\\n\")\n",
    "for idx, topic in lda_wine_bow.print_topics(-1):\n",
    "    print('Topic: {} \\nWords: {}\\n'.format(idx, topic))\n",
    "\n",
    "print(\"\\n\")\n",
    "    \n",
    "# LDA with tfidf\n",
    "print(\"LDA with tfidf\\n\")\n",
    "for idx, topic in lda_wine_tfidf.print_topics(-1):\n",
    "    print('Topic: {} \\nWords: {}\\n'.format(idx, topic))"
   ]
  },
  {
   "cell_type": "code",
   "execution_count": 140,
   "metadata": {
    "slideshow": {
     "slide_type": "subslide"
    }
   },
   "outputs": [],
   "source": [
    "# defining a function to provide the review along with its processed state\n",
    "def show_review(n):\n",
    "    print(wines.description[n])\n",
    "    print(\"\\n\")\n",
    "    print(processed_wines[n])"
   ]
  },
  {
   "cell_type": "code",
   "execution_count": 147,
   "metadata": {
    "slideshow": {
     "slide_type": "fragment"
    }
   },
   "outputs": [
    {
     "name": "stdout",
     "output_type": "stream",
     "text": [
      "Very smooth and mouthfilling, this medium-bodied wine has a harmonious feeling about it. Ripe, juicy fruit and cola flavors meet soft tannins, and a broad, expansive texture carries them into the finish.\n",
      "\n",
      "\n",
      "['smooth', 'mouthfilling', 'medium', 'body', 'wine', 'harmonious', 'feel', 'ripe', 'juicy', 'fruit', 'cola', 'flavor', 'meet', 'soft', 'tannins', 'broad', 'expansive', 'texture', 'carry', 'finish']\n"
     ]
    }
   ],
   "source": [
    "# sample reviews to check: 3696, 29736, 99336\n",
    "t2 = bow_wines[99336]\n",
    "show_review(99336)"
   ]
  },
  {
   "cell_type": "code",
   "execution_count": 148,
   "metadata": {
    "slideshow": {
     "slide_type": "subslide"
    }
   },
   "outputs": [
    {
     "name": "stdout",
     "output_type": "stream",
     "text": [
      "LDA with bow\n",
      "\n",
      "\n",
      "Score: 0.6177037954330444\t \n",
      "Topic: 0.036*\"wine\" + 0.027*\"fruit\" + 0.024*\"aromas\" + 0.020*\"spice\" + 0.018*\"cherry\" + 0.017*\"finish\" + 0.014*\"chocolate\" + 0.014*\"sweet\" + 0.013*\"blackberry\" + 0.012*\"dark\"\n",
      "\n",
      "\n",
      "Score: 0.2649756669998169\t \n",
      "Topic: 0.040*\"finish\" + 0.030*\"palate\" + 0.024*\"note\" + 0.017*\"body\" + 0.016*\"fruit\" + 0.016*\"nose\" + 0.013*\"aromas\" + 0.012*\"medium\" + 0.012*\"fresh\" + 0.012*\"apple\"\n",
      "\n",
      "\n",
      "Score: 0.08230587840080261\t \n",
      "Topic: 0.024*\"fruit\" + 0.023*\"black\" + 0.018*\"nose\" + 0.018*\"palate\" + 0.017*\"wine\" + 0.015*\"bottle\" + 0.014*\"cherry\" + 0.014*\"vineyard\" + 0.011*\"finish\" + 0.010*\"show\"\n",
      "\n",
      "\n",
      "\n",
      "LDA with tfidf\n",
      "\n",
      "\n",
      "Score: 0.4954274892807007\t \n",
      "Topic: 0.010*\"plum\" + 0.009*\"berry\" + 0.009*\"black\" + 0.008*\"finish\" + 0.008*\"blackberry\" + 0.008*\"herbal\" + 0.008*\"aromas\" + 0.007*\"palate\" + 0.007*\"nose\" + 0.006*\"cherry\"\n",
      "\n",
      "\n",
      "Score: 0.4645586907863617\t \n",
      "Topic: 0.019*\"wine\" + 0.016*\"structure\" + 0.016*\"fruit\" + 0.016*\"wood\" + 0.016*\"drink\" + 0.015*\"ripe\" + 0.015*\"tannins\" + 0.014*\"acidity\" + 0.013*\"rich\" + 0.012*\"character\"\n",
      "\n"
     ]
    }
   ],
   "source": [
    "print(\"LDA with bow\\n\")\n",
    "for index, score in sorted(lda_wine_bow[t2], key = lambda x: -1*x[1]):\n",
    "    print(\"\\nScore: {}\\t \\nTopic: {}\\n\".format(score, lda_wine_bow.print_topic(index, 10)))\n",
    "\n",
    "print(\"\\n\")\n",
    "    \n",
    "print(\"LDA with tfidf\\n\")\n",
    "for index, score in sorted(lda_wine_tfidf[t2], key = lambda x: -1*x[1]):\n",
    "    print(\"\\nScore: {}\\t \\nTopic: {}\\n\".format(score, lda_wine_tfidf.print_topic(index, 10)))"
   ]
  },
  {
   "cell_type": "markdown",
   "metadata": {
    "slideshow": {
     "slide_type": "fragment"
    }
   },
   "source": [
    "As you can see, the larger each document in the corpus, the better it is to allocate a latent topic. In addition, the tfidf method helps solve the issue of a word with high frequency dominating the allocation. \n",
    "\n",
    "The tfidf method provides lower number of topics than suggested by the bow since it can better accomodate and tackle the uncertainty amongst topics."
   ]
  },
  {
   "cell_type": "markdown",
   "metadata": {
    "slideshow": {
     "slide_type": "slide"
    }
   },
   "source": [
    "# Thank you\n",
    "\n",
    "### Any questions?"
   ]
  }
 ],
 "metadata": {
  "celltoolbar": "Slideshow",
  "kernelspec": {
   "display_name": "Python 3",
   "language": "python",
   "name": "python3"
  },
  "language_info": {
   "codemirror_mode": {
    "name": "ipython",
    "version": 3
   },
   "file_extension": ".py",
   "mimetype": "text/x-python",
   "name": "python",
   "nbconvert_exporter": "python",
   "pygments_lexer": "ipython3",
   "version": "3.7.4"
  }
 },
 "nbformat": 4,
 "nbformat_minor": 4
}
